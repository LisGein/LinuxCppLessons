{
 "cells": [
  {
   "cell_type": "markdown",
   "metadata": {
    "collapsed": false
   },
   "source": [
    "Разделим данные по id водителей"
   ]
  },
  {
   "cell_type": "code",
   "execution_count": 3,
   "metadata": {
    "collapsed": false
   },
   "outputs": [
    {
     "name": "stdout",
     "output_type": "stream",
     "text": [
      "The autoreload extension is already loaded. To reload it, use:\n",
      "  %reload_ext autoreload\n"
     ]
    }
   ],
   "source": [
    "%matplotlib inline\n",
    "%load_ext autoreload\n",
    "%autoreload 2\n",
    "\n",
    "import pandas\n",
    "import matplotlib.pyplot as plt\n",
    "from datetime import datetime as dt\n",
    "\n",
    "data = pandas.read_csv('data1.tsv', sep=\"\\t\")\n",
    "\n",
    "drivers_data = []\n",
    "\n",
    "date_fmt = \"%Y-%m-%d %H:%M:%S\"\n",
    "\n",
    "for i in data[\"id\"].unique():\n",
    "    str_dates = data[data[\"id\"] == i][\"date\"]\n",
    "    \n",
    "    lat = [l for l in data[data[\"id\"] == i][\"latitude\"]]\n",
    "    lon = [l for l in data[data[\"id\"] == i][\"longitude\"]]\n",
    "    timestamps = [dt.strptime(str_date, date_fmt) for str_date in str_dates]\n",
    "    \n",
    "    drivers_data.append([lat, lon, timestamps])"
   ]
  },
  {
   "cell_type": "markdown",
   "metadata": {},
   "source": [
    "Разбиваем все точки на отдельные круги."
   ]
  },
  {
   "cell_type": "code",
   "execution_count": 4,
   "metadata": {
    "collapsed": false
   },
   "outputs": [],
   "source": [
    "from split_rounds import split_rounds\n",
    "\n",
    "rounds = []\n",
    "        \n",
    "for xs, ys, timestamps in drivers_data:\n",
    "    driver_rounds = split_rounds(xs, ys, timestamps)\n",
    "    rounds.extend(driver_rounds)\n",
    "    \n",
    "    \n",
    "    "
   ]
  },
  {
   "cell_type": "code",
   "execution_count": 8,
   "metadata": {
    "collapsed": false
   },
   "outputs": [
    {
     "data": {
      "text/plain": [
       "[<matplotlib.lines.Line2D at 0x7f8335ffa828>]"
      ]
     },
     "execution_count": 8,
     "metadata": {},
     "output_type": "execute_result"
    },
    {
     "data": {
      "image/png": "[encoded data removed]",
      "text/plain": [
       "<matplotlib.figure.Figure at 0x7f83360712e8>"
      ]
     },
     "metadata": {},
     "output_type": "display_data"
    }
   ],
   "source": [
    "xs, ys, ts = zip(*rounds[0])\n",
    "plt.plot(xs, ys, 'o', c ='b')\n",
    "xs, ys, ts = zip(*rounds[7])\n",
    "plt.plot(xs, ys, 'o', c = 'r')"
   ]
  },
  {
   "cell_type": "markdown",
   "metadata": {},
   "source": [
    "Этот график проверка, что данные отделяются верно. Ещё не много стоит его доработать."
   ]
  },
  {
   "cell_type": "code",
   "execution_count": 34,
   "metadata": {
    "collapsed": false
   },
   "outputs": [
    {
     "name": "stdout",
     "output_type": "stream",
     "text": [
      "15 55\n"
     ]
    }
   ],
   "source": [
    "from split_rounds import mean_stay\n",
    "\n",
    "mean_stays_rounds = mean_stay(rounds)\n",
    "print(len(mean_stays_rounds), len (rounds))"
   ]
  },
  {
   "cell_type": "code",
   "execution_count": null,
   "metadata": {
    "collapsed": true
   },
   "outputs": [],
   "source": []
  }
 ],
 "metadata": {
  "kernelspec": {
   "display_name": "Python 3",
   "language": "python",
   "name": "python3"
  },
  "language_info": {
   "codemirror_mode": {
    "name": "ipython",
    "version": 3
   },
   "file_extension": ".py",
   "mimetype": "text/x-python",
   "name": "python",
   "nbconvert_exporter": "python",
   "pygments_lexer": "ipython3",
   "version": "3.4.3"
  }
 },
 "nbformat": 4,
 "nbformat_minor": 0
}
