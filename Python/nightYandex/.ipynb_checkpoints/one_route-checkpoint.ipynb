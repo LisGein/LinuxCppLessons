{
 "cells": [
  {
   "cell_type": "code",
   "execution_count": 26,
   "metadata": {
    "collapsed": true
   },
   "outputs": [],
   "source": [
    "import pandas\n",
    "import math\n",
    "\n",
    "data = pandas.read_csv('data1.tsv', sep=\"\\t\")\n",
    "route_to_stops_count = pandas.read_csv('route1.tsv', sep=\"\\t\")\n",
    "debug = pandas.read_csv('debug1.tsv', sep=\"\\t\")"
   ]
  },
  {
   "cell_type": "code",
   "execution_count": 2,
   "metadata": {
    "collapsed": true
   },
   "outputs": [],
   "source": [
    "X = debug[\"latitude\"].copy()\n",
    "Y = debug[\"longitude\"].copy()"
   ]
  },
  {
   "cell_type": "code",
   "execution_count": 3,
   "metadata": {
    "collapsed": true
   },
   "outputs": [],
   "source": [
    "eps = 0\n",
    "for i in range(len(X) - 1):\n",
    "    eps = max(math.sqrt(math.pow(X[i+1] - X[i], 2) + math.pow(Y[i+1] - Y[i], 2)), eps)\n",
    "\n",
    "min_eps = 200\n",
    "for i in range(len(X) - 1):\n",
    "    min_eps = min(math.sqrt(math.pow(X[i+1] - X[i], 2) + math.pow(Y[i+1] - Y[i], 2)), min_eps)\n"
   ]
  },
  {
   "cell_type": "code",
   "execution_count": 4,
   "metadata": {
    "collapsed": false
   },
   "outputs": [
    {
     "name": "stdout",
     "output_type": "stream",
     "text": [
      "2\n"
     ]
    }
   ],
   "source": [
    "mass = [(X, Y)]\n",
    "x = 0\n",
    "y = 0\n",
    "idx = 0\n",
    "\n",
    "\n",
    "while (min_eps < eps):\n",
    "    new_mass = []\n",
    "    for i in range(len(mass)):\n",
    "        array_len = len(mass[i][0])\n",
    "        if array_len > 2: #если больше дух точек в массиве\n",
    "            X_f = []\n",
    "            Y_f = []\n",
    "            X_s = []\n",
    "            Y_s = []\n",
    "            half = array_len/2\n",
    "            for f in range(array_len):\n",
    "                if (f < half):\n",
    "                    X_f.append(mass[i][0][f])\n",
    "                    Y_f.append(mass[i][1][f])\n",
    "                else:\n",
    "                    X_s.append(mass[i][0][f])\n",
    "                    Y_s.append(mass[i][1][f])\n",
    "            pow_x = math.pow(abs(X_f[len(X_f)-1] - X_f[0]), 2)\n",
    "            pow_Y = math.pow(abs(Y_f[len(Y_f)-1] - Y_f[0]), 2)\n",
    "            swap_x = math.sqrt(pow_x + pow_Y)\n",
    "            if (swap_x <= eps):#если расстояние между последними точками меньше eps, то оставляем только последние точки\n",
    "                X_new = [X_f[0], X_f[len(X_f)-1]]\n",
    "                Y_new = [Y_f[0], Y_f[len(Y_f)-1]]\n",
    "                new_mass.append((X_new, Y_new))\n",
    "                new_mass.append((X_s, Y_s))\n",
    "            else:#иначе делим на 2 новых массива\n",
    "                for j in range(len(mass)):\n",
    "                    if (j == i):\n",
    "                        new_mass.append((X_f, Y_f))\n",
    "                        new_mass.append((X_s, Y_s))\n",
    "                    else:\n",
    "                        new_mass.append(mass[j])\n",
    "        else:#иначе не трогаем этот массив\n",
    "            new_mass.append(mass[i])\n",
    "    mass = new_mass\n",
    "    min_eps = eps\n",
    "    max_len = 0\n",
    "    for e in new_mass:\n",
    "        max_len = max(len(e), max_len)\n",
    "        X = e[0]\n",
    "        Y = e[1]\n",
    "        for r in range(len(X) - 1):\n",
    "            min_eps = min(math.sqrt(math.pow(X[r+1] - X[r], 2) + math.pow(Y[r+1] - Y[r], 2)), min_eps)\n",
    "    print(max_len)\n",
    "    if max_len <= 2:\n",
    "        break\n",
    "mass = []\n",
    "for e in new_mass:\n",
    "    X = e[0]\n",
    "    Y = e[1]\n",
    "    for z in range(len(e[0])):\n",
    "        mass.append((X[z], Y[z]))"
   ]
  },
  {
   "cell_type": "code",
   "execution_count": 4,
   "metadata": {
    "collapsed": true
   },
   "outputs": [],
   "source": [
    "import pandas\n",
    "import math\n",
    "\n",
    "def break_array(c_array, eps):\n",
    "    new_coor = []\n",
    "    for i in range(len(c_array[0])-1):\n",
    "        dist = math.sqrt(math.pow(c_array[0][len(c_array) - i-1] - c_array[0][0], 2)\n",
    "                         + math.pow(c_array[1][len(c_array) - i-1] - c_array[1][0], 2))\n",
    "        if (dist <= eps):\n",
    "            l_array = []\n",
    "            r_array = []\n",
    "            for f in range(i):\n",
    "                l_array.append(c_array[f])\n",
    "            for f in range(c_array):\n",
    "                r_array.append(c_array[f])\n",
    "\n",
    "            new_coor.append(l_array)\n",
    "            new_coor.append(r_array)\n",
    "            return new_coor\n",
    "    new_coor = [c_array]\n",
    "    return new_coor"
   ]
  },
  {
   "cell_type": "code",
   "execution_count": 37,
   "metadata": {
    "collapsed": false
   },
   "outputs": [
    {
     "name": "stdout",
     "output_type": "stream",
     "text": [
      "6273\n"
     ]
    },
    {
     "data": {
      "text/plain": [
       "'\\ncoor = []\\nfor i in range(len(c_array[0][0])-3):\\n    dist = math.sqrt(math.pow(c_array[0][0][len(c_array[0][0]) - i-3] - c_array[0][0][0], 2)\\n                         + math.pow(c_array[0][1][len(c_array[0][0]) - i-3] - c_array[0][1][0], 2))\\n    if (dist <= eps):\\n        l_array = []\\n        r_array = []\\n        for f in range(len(c_array[0][0])-3):\\n            if f < (len(c_array[0][0]) - i-2):\\n                l_array.append((c_array[0][0][f], c_array[0][1][f]))\\n            else:\\n                r_array.append((c_array[0][0][f], c_array[0][1][f]))\\n\\n        coor.append(l_array)\\n        coor.append(r_array)\\n'"
      ]
     },
     "execution_count": 37,
     "metadata": {},
     "output_type": "execute_result"
    }
   ],
   "source": [
    "import pandas\n",
    "import math\n",
    "\n",
    "data = pandas.read_csv('data1.tsv', sep=\"\\t\")\n",
    "route_to_stops_count = pandas.read_csv('route1.tsv', sep=\"\\t\")\n",
    "debug = pandas.read_csv('debug1.tsv', sep=\"\\t\")\n",
    "# names=['date', 'id', 'type', 'hash', 'latitude', 'longitude']\n",
    "X = data[\"latitude\"].copy()\n",
    "Y = data[\"longitude\"].copy()\n",
    "\n",
    "c_array = []\n",
    "c_array.append((X, Y))\n",
    "\n",
    "eps = 0\n",
    "idx = 0\n",
    "for i in range(len(X) - 1):\n",
    "    idx = i\n",
    "    eps = max(math.sqrt(math.pow(X[i+1] - X[i], 2) + math.pow(Y[i+1] - Y[i], 2)), eps)\n",
    "print(idx)\n",
    "\"\"\"\n",
    "coor = []\n",
    "for i in range(len(c_array[0][0])-3):\n",
    "    dist = math.sqrt(math.pow(c_array[0][0][len(c_array[0][0]) - i-3] - c_array[0][0][0], 2)\n",
    "                         + math.pow(c_array[0][1][len(c_array[0][0]) - i-3] - c_array[0][1][0], 2))\n",
    "    if (dist <= eps):\n",
    "        l_array = []\n",
    "        r_array = []\n",
    "        for f in range(len(c_array[0][0])-3):\n",
    "            if f < (len(c_array[0][0]) - i-2):\n",
    "                l_array.append((c_array[0][0][f], c_array[0][1][f]))\n",
    "            else:\n",
    "                r_array.append((c_array[0][0][f], c_array[0][1][f]))\n",
    "\n",
    "        coor.append(l_array)\n",
    "        coor.append(r_array)\n",
    "\"\"\""
   ]
  },
  {
   "cell_type": "code",
   "execution_count": 5,
   "metadata": {
    "collapsed": false
   },
   "outputs": [
    {
     "data": {
      "text/plain": [
       "[<matplotlib.lines.Line2D at 0x7f6c1ef58e80>]"
      ]
     },
     "execution_count": 5,
     "metadata": {},
     "output_type": "execute_result"
    },
    {
     "data": {
      "image/png": "[encoded data removed]",
      "text/plain": [
       "<matplotlib.figure.Figure at 0x7f6c3c34ab70>"
      ]
     },
     "metadata": {},
     "output_type": "display_data"
    }
   ],
   "source": [
    "%matplotlib inline\n",
    "import matplotlib.pyplot as plt\n",
    "X = data[\"latitude\"].copy()\n",
    "Y = data[\"longitude\"].copy()\n",
    "plt.plot(X, Y, 'o')\n",
    "plt.plot(X[0], Y[0], 'o')\n",
    "plt.plot(X[1], Y[1], 'o') \n",
    "#plt.plot(X[6273], Y[6273], 'o')"
   ]
  },
  {
   "cell_type": "code",
   "execution_count": 9,
   "metadata": {
    "collapsed": false
   },
   "outputs": [
    {
     "name": "stdout",
     "output_type": "stream",
     "text": [
      "47\n"
     ]
    }
   ],
   "source": [
    "X = debug[\"latitude\"].copy()\n",
    "Y = debug[\"longitude\"].copy()\n",
    "print(len(X))"
   ]
  },
  {
   "cell_type": "code",
   "execution_count": 19,
   "metadata": {
    "collapsed": false
   },
   "outputs": [
    {
     "data": {
      "text/plain": [
       "[<matplotlib.lines.Line2D at 0x7f6c1eaeecc0>]"
      ]
     },
     "execution_count": 19,
     "metadata": {},
     "output_type": "execute_result"
    },
    {
     "data": {
      "image/png": "[encoded data removed]",
      "text/plain": [
       "<matplotlib.figure.Figure at 0x7f6c1eb5f5f8>"
      ]
     },
     "metadata": {},
     "output_type": "display_data"
    }
   ],
   "source": [
    "\n",
    "plt.plot(X, Y, 'o')\n",
    "plt.plot(X[0], Y[0], 'o')\n",
    "plt.plot(X[46], Y[46], 'o') \n",
    "plt.plot(X[45], Y[45], 'o') "
   ]
  },
  {
   "cell_type": "code",
   "execution_count": 39,
   "metadata": {
    "collapsed": false
   },
   "outputs": [
    {
     "name": "stdout",
     "output_type": "stream",
     "text": [
      "50.503967\n"
     ]
    }
   ],
   "source": [
    "\n",
    "X = debug[\"latitude\"].copy()\n",
    "Y = debug[\"longitude\"].copy()\n",
    "print (X[0])"
   ]
  },
  {
   "cell_type": "code",
   "execution_count": 58,
   "metadata": {
    "collapsed": false
   },
   "outputs": [],
   "source": [
    "X = debug[\"latitude\"].copy()\n",
    "Y = debug[\"longitude\"].copy()\n",
    "new_x = [(X.pop(0))]\n",
    "new_y = [(Y.pop(0))]\n",
    "\n",
    "x =[]\n",
    "for i in X:\n",
    "    x.append(i)\n",
    "X = x\n",
    "y =[]\n",
    "for i in Y:\n",
    "    y.append(i)\n",
    "Y = y\n",
    "\n",
    "while len(X) != 0:\n",
    "    next_eps = 100\n",
    "    min_eps = 100\n",
    "    for i in range(len(X)):\n",
    "        min_eps = math.sqrt(math.pow(X[i] - new_x[len(new_x)-1], 2) + math.pow(Y[i] - new_y[len(new_y)-1], 2))\n",
    "        if (min_eps < next_eps):\n",
    "            next_eps = min_eps\n",
    "            idx = i\n",
    "    new_x.append(X.pop(idx))\n",
    "    new_y.append(Y.pop(idx))\n",
    "    x =[]\n",
    "    for i in X:\n",
    "        x.append(i)\n",
    "    X = x\n",
    "    y =[]\n",
    "    for i in Y:\n",
    "        y.append(i)\n",
    "    Y = y\n",
    "X = new_x\n",
    "Y = new_y"
   ]
  },
  {
   "cell_type": "code",
   "execution_count": 59,
   "metadata": {
    "collapsed": false
   },
   "outputs": [
    {
     "name": "stdout",
     "output_type": "stream",
     "text": [
      "0.0037730934258259482\n",
      "0.09476284396322934\n"
     ]
    },
    {
     "data": {
      "image/png": "[encoded data removed]",
      "text/plain": [
       "<matplotlib.figure.Figure at 0x7f6c1e590668>"
      ]
     },
     "metadata": {},
     "output_type": "display_data"
    }
   ],
   "source": [
    "plt.plot(new_x, new_y, 'o')\n",
    "i = 45\n",
    "j = 1\n",
    "plt.plot(new_x[i], new_y[i], 'o')\n",
    "plt.plot(new_x[j], new_y[j], 'o') \n",
    "print(math.sqrt(math.pow(new_x[2] - new_x[1], 2) + math.pow(new_y[2] - new_y[1], 2)))\n",
    "print(math.sqrt(math.pow(new_x[46] - new_x[1], 2) + math.pow(new_y[46] - new_y[1], 2)))"
   ]
  },
  {
   "cell_type": "code",
   "execution_count": 62,
   "metadata": {
    "collapsed": false
   },
   "outputs": [
    {
     "name": "stdout",
     "output_type": "stream",
     "text": [
      "30 37\n"
     ]
    }
   ],
   "source": [
    "max_eps = 0\n",
    "min_eps = 1000\n",
    "eps = 0\n",
    "max_idx = 0\n",
    "min_idx = 0\n",
    "for i in range(len(X) - 1):\n",
    "    eps = math.sqrt(math.pow(X[i+1] - X[i], 2) + math.pow(Y[i+1] - Y[i], 2))\n",
    "    if (eps > max_eps):\n",
    "        max_idx = i\n",
    "        max_eps = eps\n",
    "    elif (eps < min_eps):\n",
    "        min_idx = i\n",
    "        min_eps = eps\n",
    "print(max_idx, min_idx)"
   ]
  },
  {
   "cell_type": "code",
   "execution_count": 63,
   "metadata": {
    "collapsed": false
   },
   "outputs": [
    {
     "data": {
      "text/plain": [
       "[<matplotlib.lines.Line2D at 0x7f6c1e648a58>]"
      ]
     },
     "execution_count": 63,
     "metadata": {},
     "output_type": "execute_result"
    },
    {
     "data": {
      "image/png": "[encoded data removed]",
      "text/plain": [
       "<matplotlib.figure.Figure at 0x7f6c1e648898>"
      ]
     },
     "metadata": {},
     "output_type": "display_data"
    }
   ],
   "source": [
    "plt.plot(new_x, new_y, 'o')\n",
    "i = 30\n",
    "j = 31\n",
    "plt.plot(new_x[i], new_y[i], 'o')\n",
    "plt.plot(new_x[j], new_y[j], 'o') "
   ]
  },
  {
   "cell_type": "code",
   "execution_count": 64,
   "metadata": {
    "collapsed": false
   },
   "outputs": [
    {
     "data": {
      "text/plain": [
       "[<matplotlib.lines.Line2D at 0x7f6c1e63a208>]"
      ]
     },
     "execution_count": 64,
     "metadata": {},
     "output_type": "execute_result"
    },
    {
     "data": {
      "image/png": "[encoded data removed]",
      "text/plain": [
       "<matplotlib.figure.Figure at 0x7f6c1e617dd8>"
      ]
     },
     "metadata": {},
     "output_type": "display_data"
    }
   ],
   "source": [
    "plt.plot(new_x, new_y, 'o')\n",
    "i = 37\n",
    "j = 38\n",
    "plt.plot(new_x[i], new_y[i], 'o')\n",
    "plt.plot(new_x[j], new_y[j], 'o') "
   ]
  },
  {
   "cell_type": "code",
   "execution_count": null,
   "metadata": {
    "collapsed": true
   },
   "outputs": [],
   "source": []
  }
 ],
 "metadata": {
  "kernelspec": {
   "display_name": "Python 3",
   "language": "python",
   "name": "python3"
  },
  "language_info": {
   "codemirror_mode": {
    "name": "ipython",
    "version": 3
   },
   "file_extension": ".py",
   "mimetype": "text/x-python",
   "name": "python",
   "nbconvert_exporter": "python",
   "pygments_lexer": "ipython3",
   "version": "3.4.3"
  }
 },
 "nbformat": 4,
 "nbformat_minor": 0
}
