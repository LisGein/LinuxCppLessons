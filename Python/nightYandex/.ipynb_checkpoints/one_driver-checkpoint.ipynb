{
 "cells": [
  {
   "cell_type": "markdown",
   "metadata": {
    "collapsed": false
   },
   "source": [
    "Раскидывание данных для первого водителя по массивам:"
   ]
  },
  {
   "cell_type": "code",
   "execution_count": 158,
   "metadata": {
    "collapsed": true
   },
   "outputs": [],
   "source": [
    "%matplotlib inline\n",
    "import pandas\n",
    "import math\n",
    "import matplotlib.pyplot as plt\n",
    "import re\n",
    "import datetime\n",
    "import sort_coordinates\n",
    "\n",
    "data = pandas.read_csv('data1.tsv', sep=\"\\t\")\n",
    "debug = pandas.read_csv('debug1.tsv', sep=\"\\t\")\n",
    "#debug[debug[\"hash\"] == 86]\n",
    "# names=['date', 'id', 'type', 'hash', 'latitude', 'longitude']\n",
    "id_unique = data[\"id\"].unique()\n",
    "date_points = []\n",
    "lat_points = []\n",
    "lon_points = []\n",
    "\n",
    "for i in id_unique:\n",
    "    str_date = data[data[\"id\"] == i][\"date\"].copy()\n",
    "    datepstr = []\n",
    "    format_date = \"%Y-%m-%d %H:%M:%S\"\n",
    "    for s in str_date:\n",
    "        search_date = re.search('(\\d+-\\d+-\\d+\\s\\d+:\\d+:\\d+)', s)\n",
    "        t = datetime.datetime.strptime(search_date.group(1), format_date)\n",
    "        datepstr.append(t)\n",
    "    date_points.append(datepstr)\n",
    "    lat = sort_coordinates.del_invalid_idx(data[data[\"id\"] == i][\"latitude\"].copy())\n",
    "    lat_points.append(lat)\n",
    "    lon = sort_coordinates.del_invalid_idx(data[data[\"id\"] == i][\"longitude\"].copy())\n",
    "    lon_points.append(lon)"
   ]
  },
  {
   "cell_type": "code",
   "execution_count": 159,
   "metadata": {
    "collapsed": false
   },
   "outputs": [
    {
     "name": "stdout",
     "output_type": "stream",
     "text": [
      "0.0 0.03393044821395047\n"
     ]
    }
   ],
   "source": [
    "min_eps = 10\n",
    "max_eps = 0\n",
    "eps = 0\n",
    "idx_max = 0\n",
    "jdx_max = 0\n",
    "next_max_eps = 10\n",
    "for j in range(len(lat_points) - 1):\n",
    "    for i in range(len(lat_points[j]) - 2):\n",
    "        \n",
    "        max_eps = max(math.sqrt(math.pow(lat_points[j][i+1] - lat_points[j][i], 2)\n",
    "                        + math.pow(lon_points[j][i+1] - lon_points[j][i], 2)), max_eps)\n",
    "        \n",
    "        min_eps = min(math.sqrt(math.pow(lat_points[j][i+1] - lat_points[j][i], 2)\n",
    "                                + math.pow(lon_points[j][i+1] - lon_points[j][i], 2)), min_eps)\n",
    "    q = next_max_eps\n",
    "    next_max_eps = min(max_eps, next_max_eps)\n",
    "    if (q < max_eps):\n",
    "        idx_max = i\n",
    "        jdx_max = j\n",
    "    \n",
    "print (min_eps, max_eps)"
   ]
  },
  {
   "cell_type": "code",
   "execution_count": 3,
   "metadata": {
    "collapsed": false
   },
   "outputs": [],
   "source": [
    "start_points = []\n",
    "f_points = []\n",
    "next_points = 1\n",
    "x = lat_points[0][0]\n",
    "y = lon_points[0][0]\n",
    "x_next = lat_points[0][next_points]\n",
    "y_next = lon_points[0][next_points]\n",
    "while (x + max_eps > x_next)and(y + max_eps > y_next)and(x - max_eps < x_next)and(y - max_eps < y_next):\n",
    "    next_points += 1  \n",
    "    f_points.append([lat_points[0][next_points], lon_points[0][next_points]])\n",
    "    x_next = lat_points[0][next_points]\n",
    "    y_next = lon_points[0][next_points]\n",
    "\n",
    "\n",
    "id_points = len(lat_points[0]) - 1 - next_points\n",
    "for i in range(id_points):\n",
    "    x_next = lat_points[0][i+next_points]\n",
    "    y_next = lon_points[0][i+next_points]\n",
    "    if (x + max_eps > x_next)and(y + max_eps > y_next)and(x - max_eps < x_next)and(y - max_eps < y_next): \n",
    "        start_points.append([lat_points[0][i + next_points], lon_points[0][i + next_points]])   "
   ]
  },
  {
   "cell_type": "markdown",
   "metadata": {
    "collapsed": true
   },
   "source": [
    "Время так же важно. Между 1 и 2 временем значительно меньше времени, чем между 2 и 3. \n",
    "Соответственно нужно посмотреть на сколько большой/маленький отрезок пройден за время между точками. А значит нужно всё таки знать скорость."
   ]
  },
  {
   "cell_type": "code",
   "execution_count": 106,
   "metadata": {
    "collapsed": false
   },
   "outputs": [
    {
     "name": "stdout",
     "output_type": "stream",
     "text": [
      "349\n",
      "350\n"
     ]
    }
   ],
   "source": [
    "speed = []\n",
    "for j in range(len(lat_points) - 1):\n",
    "    speed_hero = []\n",
    "    for i in range(len(lat_points[j]) - 1):\n",
    "        range_way = math.sqrt(math.pow(lat_points[j][i+1] - lat_points[j][i], 2)\n",
    "                              + math.pow(lon_points[j][i+1] - lon_points[j][i], 2))\n",
    "        range_time = (date_points[j][i + 1] - date_points[j][i]).total_seconds()\n",
    "        speed_hero.append(range_way/range_time)\n",
    "    speed.append(speed_hero)\n"
   ]
  },
  {
   "cell_type": "code",
   "execution_count": 110,
   "metadata": {
    "collapsed": false
   },
   "outputs": [],
   "source": [
    "import sort_coordinates\n",
    "\n",
    "sort_speed = []\n",
    "\n",
    "idx = 0\n",
    "\n",
    "sort_lat = []\n",
    "sort_lon = []\n",
    "for i in range(len(speed)-1):\n",
    "    temp_lat_points = sort_coordinates.del_invalid_idx(lat_points[i])\n",
    "    temp_lon_points = sort_coordinates.del_invalid_idx(lon_points[i])\n",
    "    lat = []\n",
    "    lon = []\n",
    "    sp = []\n",
    "    temp_speed_array = speed[i].copy()\n",
    "    while len(temp_speed_array) != 0:\n",
    "        min_speed = 100000\n",
    "        for i in range(len(temp_speed_array)-1):\n",
    "            if min_speed > temp_speed_array[i]:\n",
    "                min_speed = temp_speed_array[i]\n",
    "                idx = i\n",
    "        sp.append((idx, temp_speed_array.pop(idx)))\n",
    "        lat.append((temp_lat_points.pop(idx), temp_lat_points[idx]))\n",
    "        lon.append((temp_lon_points.pop(idx), temp_lon_points[idx]))\n",
    "    sort_lat.append(lat)\n",
    "    sort_lon.append(lon)\n",
    "    sort_speed.append(sp)\n",
    "\n"
   ]
  },
  {
   "cell_type": "markdown",
   "metadata": {},
   "source": [
    "Как отсортировать скорость сохраняя индекс вторым параметром?"
   ]
  },
  {
   "cell_type": "code",
   "execution_count": 122,
   "metadata": {
    "collapsed": false
   },
   "outputs": [
    {
     "data": {
      "image/png": "[encoded data removed]",
      "text/plain": [
       "<matplotlib.figure.Figure at 0x7f5f0d64e5c0>"
      ]
     },
     "metadata": {},
     "output_type": "display_data"
    }
   ],
   "source": [
    "\n",
    "plt.plot(debug[\"latitude\"], debug[\"longitude\"], c = 'b')\n",
    "\n",
    "for j in range(len(sort_speed)-1):\n",
    "    ix = len(sort_lat[j])/15\n",
    "    for i in range(int(ix)):\n",
    "        plt.plot(sort_lat[j][i], sort_lon[j][i], c = 'y')\n",
    "        plt.plot(sort_lat[j][i], sort_lon[j][i], 'o')"
   ]
  },
  {
   "cell_type": "markdown",
   "metadata": {
    "collapsed": true
   },
   "source": [
    "Нужно понять какая скорость максимальная для остановок, чтобы решить какое кол-во точек, где тормозит водитель брать. Плюс нельзя забывать о том, что их в любом случае должно быть значительно больше так как светафоры/пробки..."
   ]
  },
  {
   "cell_type": "code",
   "execution_count": 135,
   "metadata": {
    "collapsed": false
   },
   "outputs": [
    {
     "data": {
      "text/plain": [
       "[<matplotlib.lines.Line2D at 0x7f5f0d6c4748>]"
      ]
     },
     "execution_count": 135,
     "metadata": {},
     "output_type": "execute_result"
    },
    {
     "data": {
      "image/png": "[encoded data removed]",
      "text/plain": [
       "<matplotlib.figure.Figure at 0x7f5f0724fcf8>"
      ]
     },
     "metadata": {},
     "output_type": "display_data"
    }
   ],
   "source": [
    "plt.plot(lat, lon, 'o')\n",
    "plt.plot(debug[\"latitude\"], debug[\"longitude\"], 'o', c = 'g')\n",
    "plt.plot(lat_points[jdx_max][idx_max+1], lon_points[jdx_max][idx_max+1], 'o', c = 'r')\n",
    "plt.plot(lat_points[jdx_max][idx_max], lon_points[jdx_max][idx_max], 'o', c = 'r')"
   ]
  },
  {
   "cell_type": "markdown",
   "metadata": {},
   "source": [
    "Нужно придумать как определять число остановок и предварительно разделить маршрут на 2 части - в одну и в другую сторону."
   ]
  },
  {
   "cell_type": "markdown",
   "metadata": {},
   "source": [
    "Можно основываясь на данных debug определить минимальную скорость для отрезка на котором находиться остановка."
   ]
  },
  {
   "cell_type": "markdown",
   "metadata": {},
   "source": [
    "Причём надо не индекс точки запоминать, а именно отрезки соединяющие эти точки."
   ]
  },
  {
   "cell_type": "code",
   "execution_count": 133,
   "metadata": {
    "collapsed": false
   },
   "outputs": [
    {
     "name": "stdout",
     "output_type": "stream",
     "text": [
      "50.505928\n"
     ]
    }
   ],
   "source": [
    "у =  0\n",
    "for i in range(len(lat_points[0]) - 2):\n",
    "    y = max(math.sqrt(math.pow(lat_points[0][i+1] - lat_points[0][i], 2)\n",
    "                        + math.pow(lon_points[0][i+1] - lon_points[0][i], 2)), y)\n",
    "print(lat_points[0][2])"
   ]
  },
  {
   "cell_type": "markdown",
   "metadata": {},
   "source": [
    "Поиск первого круга:"
   ]
  },
  {
   "cell_type": "code",
   "execution_count": 177,
   "metadata": {
    "collapsed": false
   },
   "outputs": [
    {
     "name": "stdout",
     "output_type": "stream",
     "text": [
      "end\n"
     ]
    }
   ],
   "source": [
    "f_lat_points = []\n",
    "f_lon_points = []\n",
    "s_lat_points = []\n",
    "s_lon_points = []\n",
    "ways_x = []\n",
    "ways_y = []\n",
    "f_point_x = [lat_points[0][0], lat_points[0][1], lat_points[0][2]]\n",
    "f_point_y = [lon_points[0][0], lon_points[0][1], lon_points[0][2]]\n",
    "for j in range(len(lat_points[0]) - 6):\n",
    "    way_f = math.sqrt(math.pow(f_point_x[0] - lat_points[0][j+3], 2)\n",
    "                      + math.pow(f_point_y[0] - lon_points[0][j+3], 2))\n",
    "    way_s = math.sqrt(math.pow(f_point_x[1] - lat_points[0][j+4], 2)\n",
    "                      + math.pow(f_point_y[1] - lon_points[0][j+4], 2))\n",
    "    way_t = math.sqrt(math.pow(f_point_x[2] - lat_points[0][j+5], 2)\n",
    "                      + math.pow(f_point_y[2] - lon_points[0][j+5], 2))\n",
    "    if way_f < max_eps and  way_s < max_eps  and  way_t < max_eps:\n",
    "        ways_x.append(lat_points[0][:j+2])\n",
    "        ways_y.append(lon_points[0][:j+2])\n",
    "        break\n",
    "    \n",
    "print(\"end\")\n",
    "            "
   ]
  },
  {
   "cell_type": "markdown",
   "metadata": {},
   "source": [
    "Сравниваю расстояние между 3-мя стартовыми координатами и тремя следующими подраяд. Если max_eps > получаю конец круга."
   ]
  },
  {
   "cell_type": "code",
   "execution_count": 178,
   "metadata": {
    "collapsed": false
   },
   "outputs": [
    {
     "name": "stdout",
     "output_type": "stream",
     "text": [
      "7\n"
     ]
    },
    {
     "data": {
      "text/plain": [
       "[<matplotlib.lines.Line2D at 0x7f5f073f9080>]"
      ]
     },
     "execution_count": 178,
     "metadata": {},
     "output_type": "execute_result"
    },
    {
     "data": {
      "image/png": "[encoded data removed]",
      "text/plain": [
       "<matplotlib.figure.Figure at 0x7f5f0c2ef0f0>"
      ]
     },
     "metadata": {},
     "output_type": "display_data"
    }
   ],
   "source": [
    "plt.plot(lat, lon, 'o')\n",
    "print (len(ways_x[0]))\n",
    "plt.plot(lat_points[0][0], lon_points[0][0], 'o', c = 'y')\n",
    "plt.plot(lat_points[0][3], lon_points[0][3], 'o', c = 'y')\n",
    "plt.plot(lat_points[0][5], lon_points[0][5], 'o', c = 'y')\n",
    "\n",
    "plt.plot(lat_points[0][len(ways_x[0])], lon_points[0][len(ways_x[0])], 'o', c = 'g')\n",
    "plt.plot(lat_points[0][len(ways_x[0])+1], lon_points[0][len(ways_x[0])+1], 'o', c = 'g')\n",
    "plt.plot(lat_points[0][len(ways_x[0])+2], lon_points[0][len(ways_x[0])+2], 'o', c = 'g')"
   ]
  },
  {
   "cell_type": "markdown",
   "metadata": {},
   "source": [
    "Где-то ошиблась."
   ]
  }
 ],
 "metadata": {
  "kernelspec": {
   "display_name": "Python 3",
   "language": "python",
   "name": "python3"
  },
  "language_info": {
   "codemirror_mode": {
    "name": "ipython",
    "version": 3
   },
   "file_extension": ".py",
   "mimetype": "text/x-python",
   "name": "python",
   "nbconvert_exporter": "python",
   "pygments_lexer": "ipython3",
   "version": "3.4.3"
  }
 },
 "nbformat": 4,
 "nbformat_minor": 0
}
