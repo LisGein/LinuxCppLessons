{
 "cells": [
  {
   "cell_type": "markdown",
   "metadata": {
    "collapsed": false
   },
   "source": [
    "Раскидывание данных для первого водителя по массивам:"
   ]
  },
  {
   "cell_type": "code",
   "execution_count": 42,
   "metadata": {
    "collapsed": true
   },
   "outputs": [],
   "source": [
    "%matplotlib inline\n",
    "import pandas\n",
    "import math\n",
    "import matplotlib.pyplot as plt\n",
    "import re\n",
    "import datetime\n",
    "import sort_coordinates\n",
    "\n",
    "data = pandas.read_csv('data1.tsv', sep=\"\\t\")\n",
    "#debug[debug[\"hash\"] == 86]\n",
    "# names=['date', 'id', 'type', 'hash', 'latitude', 'longitude']\n",
    "id_unique = data[\"id\"].unique()\n",
    "date_points = []\n",
    "lat_points = []\n",
    "lon_points = []\n",
    "\n",
    "for i in id_unique:\n",
    "    str_date = data[data[\"id\"] == i][\"date\"].copy()\n",
    "    datepstr = []\n",
    "    format_date = \"%Y-%m-%d %H:%M:%S\"\n",
    "    for s in str_date:\n",
    "        search_date = re.search('(\\d+-\\d+-\\d+\\s\\d+:\\d+:\\d+)', s)\n",
    "        t = datetime.datetime.strptime(search_date.group(1), format_date)\n",
    "        datepstr.append(t)\n",
    "    date_points.append(datepstr)\n",
    "    lat = sort_coordinates.del_invalid_idx(data[data[\"id\"] == i][\"latitude\"].copy())\n",
    "    lat_points.append(lat)\n",
    "    lon = sort_coordinates.del_invalid_idx(data[data[\"id\"] == i][\"longitude\"].copy())\n",
    "    lon_points.append(lon)"
   ]
  },
  {
   "cell_type": "code",
   "execution_count": 43,
   "metadata": {
    "collapsed": false
   },
   "outputs": [
    {
     "name": "stdout",
     "output_type": "stream",
     "text": [
      "1.9999999949504854e-06 0.030831800093413155\n"
     ]
    }
   ],
   "source": [
    "min_eps = 10\n",
    "max_eps = 0\n",
    "eps = 0\n",
    "idx = 0\n",
    "for i in range(len(lat_points[0]) - 1):\n",
    "    eps = math.sqrt(math.pow(lat_points[0][i+1] - lat_points[0][i], 2)\n",
    "                          + math.pow(lon_points[0][i+1] - lon_points[0][i], 2))\n",
    "    if eps > max_eps:\n",
    "        max_eps = eps\n",
    "        idx = i\n",
    "    \n",
    "    min_eps = min(math.sqrt(math.pow(lat_points[0][i+1] - lat_points[0][i], 2)\n",
    "                          + math.pow(lon_points[0][i+1] - lon_points[0][i], 2)), min_eps)\n",
    "    \n",
    "print (min_eps, max_eps)\n"
   ]
  },
  {
   "cell_type": "code",
   "execution_count": 44,
   "metadata": {
    "collapsed": false
   },
   "outputs": [],
   "source": [
    "start_points = []\n",
    "f_points = []\n",
    "next_points = 1\n",
    "x = lat_points[0][0]\n",
    "y = lon_points[0][0]\n",
    "x_next = lat_points[0][next_points]\n",
    "y_next = lon_points[0][next_points]\n",
    "while (x + max_eps > x_next)and(y + max_eps > y_next)and(x - max_eps < x_next)and(y - max_eps < y_next):\n",
    "    next_points += 1  \n",
    "    f_points.append([lat_points[0][next_points], lon_points[0][next_points]])\n",
    "    x_next = lat_points[0][next_points]\n",
    "    y_next = lon_points[0][next_points]\n",
    "\n",
    "\n",
    "id_points = len(lat_points[0]) - 1 - next_points\n",
    "for i in range(id_points):\n",
    "    x_next = lat_points[0][i+next_points]\n",
    "    y_next = lon_points[0][i+next_points]\n",
    "    if (x + max_eps > x_next)and(y + max_eps > y_next)and(x - max_eps < x_next)and(y - max_eps < y_next): \n",
    "        start_points.append([lat_points[0][i + next_points], lon_points[0][i + next_points]])   "
   ]
  },
  {
   "cell_type": "code",
   "execution_count": 45,
   "metadata": {
    "collapsed": false
   },
   "outputs": [
    {
     "name": "stdout",
     "output_type": "stream",
     "text": [
      "2015-05-12 11:54:27 2015-05-12 11:56:47 2015-05-12 12:07:07\n"
     ]
    },
    {
     "data": {
      "image/png": "[encoded data removed]",
      "text/plain": [
       "<matplotlib.figure.Figure at 0x7f7db4eae6a0>"
      ]
     },
     "metadata": {},
     "output_type": "display_data"
    }
   ],
   "source": [
    "plt.plot(lat_points[0], lon_points[0])\n",
    "plt.plot(lat_points[0][idx], lon_points[0][idx], 'o', c = 'y')\n",
    "plt.plot(lat_points[0][idx+1], lon_points[0][idx+1], 'o', c = 'y')\n",
    "plt.plot(lat_points[0][idx+2], lon_points[0][idx+2], 'o', c = 'y')\n",
    "print(date_points[0][idx - 1], date_points[0][idx], date_points[0][idx + 1])\n"
   ]
  },
  {
   "cell_type": "markdown",
   "metadata": {
    "collapsed": true
   },
   "source": [
    "Время так же важно. Между 1 и 2 временем значительно меньше времени, чем между 2 и 3. \n",
    "Соответственно нужно посмотреть на сколько большой/маленький отрезок пройден за время между точками. А значит нужно всё таки знать скорость."
   ]
  },
  {
   "cell_type": "code",
   "execution_count": 46,
   "metadata": {
    "collapsed": false
   },
   "outputs": [],
   "source": [
    "speed = []\n",
    "for i in range(len(lat_points[0]) - 1):\n",
    "    range_way = math.sqrt(math.pow(lat_points[0][i+1] - lat_points[0][i], 2)\n",
    "                          + math.pow(lon_points[0][i+1] - lon_points[0][i], 2))\n",
    "    range_time = (date_points[0][i + 1] - date_points[0][i]).total_seconds()\n",
    "    speed.append(range_way/range_time)"
   ]
  },
  {
   "cell_type": "code",
   "execution_count": 47,
   "metadata": {
    "collapsed": false
   },
   "outputs": [
    {
     "name": "stdout",
     "output_type": "stream",
     "text": [
      "349\n"
     ]
    }
   ],
   "source": [
    "import sort_coordinates\n",
    "\n",
    "sort_speed = []\n",
    "temp_lat_points = lat_points[0]\n",
    "temp_lon_points = lon_points[0]\n",
    "\n",
    "lat = []\n",
    "lon = []\n",
    "temp_speed_array = speed.copy()\n",
    "idx = 0\n",
    "while len(temp_speed_array) != 0:\n",
    "    min_speed = 100000\n",
    "    for i in range(len(temp_speed_array)-1):\n",
    "        if min_speed > temp_speed_array[i]:\n",
    "            min_speed = temp_speed_array[i]\n",
    "            idx = i\n",
    "    sort_speed.append((idx, temp_speed_array.pop(idx)))\n",
    "    lat.append(temp_lat_points.pop(idx))\n",
    "    lon.append(temp_lon_points.pop(idx))\n",
    "print(len(lat))\n",
    "\n"
   ]
  },
  {
   "cell_type": "markdown",
   "metadata": {},
   "source": [
    "Как отсортировать скорость сохраняя индекс вторым параметром?"
   ]
  },
  {
   "cell_type": "code",
   "execution_count": 48,
   "metadata": {
    "collapsed": false
   },
   "outputs": [
    {
     "data": {
      "image/png": "[encoded data removed]",
      "text/plain": [
       "<matplotlib.figure.Figure at 0x7f7db48ba5c0>"
      ]
     },
     "metadata": {},
     "output_type": "display_data"
    }
   ],
   "source": [
    "plt.plot(lat, lon, 'o')\n",
    "for i in range(50):\n",
    "    plt.plot(lat[i], lon[i], 'o', c = 'y')\n"
   ]
  },
  {
   "cell_type": "markdown",
   "metadata": {
    "collapsed": true
   },
   "source": [
    "Нужно понять какая скорость максимальная для остановок, чтобы решить какое кол-во точек, где тормозит водитель брать. Плюс нельзя забывать о том, что их в любом случае должно быть значительно больше так как светафоры/пробки..."
   ]
  },
  {
   "cell_type": "code",
   "execution_count": null,
   "metadata": {
    "collapsed": true
   },
   "outputs": [],
   "source": []
  }
 ],
 "metadata": {
  "kernelspec": {
   "display_name": "Python 3",
   "language": "python",
   "name": "python3"
  },
  "language_info": {
   "codemirror_mode": {
    "name": "ipython",
    "version": 3
   },
   "file_extension": ".py",
   "mimetype": "text/x-python",
   "name": "python",
   "nbconvert_exporter": "python",
   "pygments_lexer": "ipython3",
   "version": "3.4.3"
  }
 },
 "nbformat": 4,
 "nbformat_minor": 0
}
