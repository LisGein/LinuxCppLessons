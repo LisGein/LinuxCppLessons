{
 "cells": [
  {
   "cell_type": "markdown",
   "metadata": {
    "collapsed": false
   },
   "source": [
    "Раскидывание данных для первого водителя по массивам:"
   ]
  },
  {
   "cell_type": "code",
   "execution_count": 7,
   "metadata": {
    "collapsed": false
   },
   "outputs": [],
   "source": [
    "%matplotlib inline\n",
    "import pandas\n",
    "import math\n",
    "import matplotlib.pyplot as plt\n",
    "import re\n",
    "import datetime\n",
    "import sort_coordinates\n",
    "\n",
    "data = pandas.read_csv('data1.tsv', sep=\"\\t\")\n",
    "debug = pandas.read_csv('debug1.tsv', sep=\"\\t\")\n",
    "#debug[debug[\"hash\"] == 86]\n",
    "# names=['date', 'id', 'type', 'hash', 'latitude', 'longitude']\n",
    "id_unique = data[\"id\"].unique()\n",
    "date_points = []\n",
    "lat_points = []\n",
    "lon_points = []\n",
    "format_date = \"%Y-%m-%d %H:%M:%S\"\n",
    "\n",
    "for i in id_unique:\n",
    "    str_date = data[data[\"id\"] == i][\"date\"].copy()\n",
    "    datepstr = []\n",
    "    for s in str_date:\n",
    "        t = datetime.datetime.strptime(s, format_date)\n",
    "        datepstr.append(t)\n",
    "    date_points.append(datepstr)\n",
    "    lat = sort_coordinates.del_invalid_idx(data[data[\"id\"] == i][\"latitude\"].copy())\n",
    "    lat_points.append(lat)\n",
    "    lon = sort_coordinates.del_invalid_idx(data[data[\"id\"] == i][\"longitude\"].copy())\n",
    "    lon_points.append(lon)"
   ]
  },
  {
   "cell_type": "markdown",
   "metadata": {
    "collapsed": true
   },
   "source": [
    "Время так же важно. Между 1 и 2 временем значительно меньше времени, чем между 2 и 3. \n",
    "Соответственно нужно посмотреть на сколько большой/маленький отрезок пройден за время между точками. А значит нужно всё таки знать скорость."
   ]
  },
  {
   "cell_type": "code",
   "execution_count": 8,
   "metadata": {
    "collapsed": false
   },
   "outputs": [],
   "source": [
    "speed = []\n",
    "for j in range(len(lat_points) - 1):\n",
    "    speed_hero = []\n",
    "    for i in range(len(lat_points[j]) - 1):\n",
    "        range_way = math.sqrt(math.pow(lat_points[j][i+1] - lat_points[j][i], 2)\n",
    "                              + math.pow(lon_points[j][i+1] - lon_points[j][i], 2))\n",
    "        range_time = (date_points[j][i + 1] - date_points[j][i]).total_seconds()\n",
    "        speed_hero.append(range_way/range_time)\n",
    "    speed.append(speed_hero)\n"
   ]
  },
  {
   "cell_type": "code",
   "execution_count": 9,
   "metadata": {
    "collapsed": false
   },
   "outputs": [],
   "source": [
    "import sort_coordinates\n",
    "\n",
    "sort_speed = []\n",
    "\n",
    "idx = 0\n",
    "\n",
    "sort_lat = []\n",
    "sort_lon = []\n",
    "for i in range(len(speed)-1):\n",
    "    temp_lat_points = sort_coordinates.del_invalid_idx(lat_points[i])\n",
    "    temp_lon_points = sort_coordinates.del_invalid_idx(lon_points[i])\n",
    "    lat = []\n",
    "    lon = []\n",
    "    sp = []\n",
    "    temp_speed_array = speed[i].copy()\n",
    "    while len(temp_speed_array) != 0:\n",
    "        min_speed = 100000\n",
    "        for i in range(len(temp_speed_array)-1):\n",
    "            if min_speed > temp_speed_array[i]:\n",
    "                min_speed = temp_speed_array[i]\n",
    "                idx = i\n",
    "        sp.append((idx, temp_speed_array.pop(idx)))\n",
    "        lat.append((temp_lat_points.pop(idx), temp_lat_points[idx]))\n",
    "        lon.append((temp_lon_points.pop(idx), temp_lon_points[idx]))\n",
    "    sort_lat.append(lat)\n",
    "    sort_lon.append(lon)\n",
    "    sort_speed.append(sp)\n",
    "\n"
   ]
  },
  {
   "cell_type": "markdown",
   "metadata": {},
   "source": [
    "Как отсортировать скорость сохраняя индекс вторым параметром?"
   ]
  },
  {
   "cell_type": "markdown",
   "metadata": {
    "collapsed": true
   },
   "source": [
    "Нужно понять какая скорость максимальная для остановок, чтобы решить какое кол-во точек, где тормозит водитель брать. Плюс нельзя забывать о том, что их в любом случае должно быть значительно больше так как светафоры/пробки..."
   ]
  },
  {
   "cell_type": "code",
   "execution_count": 10,
   "metadata": {
    "collapsed": false
   },
   "outputs": [
    {
     "data": {
      "text/plain": [
       "[<matplotlib.lines.Line2D at 0x7f548cca1a58>]"
      ]
     },
     "execution_count": 10,
     "metadata": {},
     "output_type": "execute_result"
    },
    {
     "data": {
      "image/png": "[encoded data removed]",
      "text/plain": [
       "<matplotlib.figure.Figure at 0x7f548cb82dd8>"
      ]
     },
     "metadata": {},
     "output_type": "display_data"
    }
   ],
   "source": [
    "plt.plot(lat, lon, 'o', c = 'r')\n",
    "plt.plot(debug[\"latitude\"], debug[\"longitude\"], 'o', c = 'g')"
   ]
  },
  {
   "cell_type": "markdown",
   "metadata": {},
   "source": [
    "Нужно придумать как определять число остановок и предварительно разделить маршрут на 2 части - в одну и в другую сторону."
   ]
  },
  {
   "cell_type": "markdown",
   "metadata": {},
   "source": [
    "Можно основываясь на данных debug определить минимальную скорость для отрезка на котором находиться остановка."
   ]
  },
  {
   "cell_type": "markdown",
   "metadata": {},
   "source": [
    "Причём надо не индекс точки запоминать, а именно отрезки соединяющие эти точки."
   ]
  },
  {
   "cell_type": "markdown",
   "metadata": {},
   "source": [
    "Поиск первого круга:"
   ]
  },
  {
   "cell_type": "code",
   "execution_count": 12,
   "metadata": {
    "collapsed": false
   },
   "outputs": [
    {
     "name": "stdout",
     "output_type": "stream",
     "text": [
      "0 i\n"
     ]
    },
    {
     "ename": "AttributeError",
     "evalue": "'function' object has no attribute 'len_way'",
     "output_type": "error",
     "traceback": [
      "\u001b[1;31m---------------------------------------------------------------------------\u001b[0m",
      "\u001b[1;31mAttributeError\u001b[0m                            Traceback (most recent call last)",
      "\u001b[1;32m<ipython-input-12-60653d8d1236>\u001b[0m in \u001b[0;36m<module>\u001b[1;34m()\u001b[0m\n\u001b[0;32m      5\u001b[0m \u001b[1;32mfor\u001b[0m \u001b[0mi\u001b[0m \u001b[1;32min\u001b[0m \u001b[0mrange\u001b[0m\u001b[1;33m(\u001b[0m\u001b[0mlen\u001b[0m\u001b[1;33m(\u001b[0m\u001b[0mlon_points\u001b[0m\u001b[1;33m)\u001b[0m\u001b[1;33m)\u001b[0m\u001b[1;33m:\u001b[0m\u001b[1;33m\u001b[0m\u001b[0m\n\u001b[0;32m      6\u001b[0m     \u001b[0mprint\u001b[0m\u001b[1;33m(\u001b[0m\u001b[0mi\u001b[0m\u001b[1;33m,\u001b[0m \u001b[1;34m\"i\"\u001b[0m\u001b[1;33m)\u001b[0m\u001b[1;33m\u001b[0m\u001b[0m\n\u001b[1;32m----> 7\u001b[1;33m     \u001b[0mx\u001b[0m\u001b[1;33m,\u001b[0m \u001b[0my\u001b[0m \u001b[1;33m=\u001b[0m \u001b[0msort_coordinates\u001b[0m\u001b[1;33m.\u001b[0m\u001b[0mdiv_way\u001b[0m\u001b[1;33m(\u001b[0m\u001b[0mlat_points\u001b[0m\u001b[1;33m[\u001b[0m\u001b[0mi\u001b[0m\u001b[1;33m]\u001b[0m\u001b[1;33m,\u001b[0m \u001b[0mlon_points\u001b[0m\u001b[1;33m[\u001b[0m\u001b[0mi\u001b[0m\u001b[1;33m]\u001b[0m\u001b[1;33m)\u001b[0m\u001b[1;33m;\u001b[0m\u001b[1;33m\u001b[0m\u001b[0m\n\u001b[0m\u001b[0;32m      8\u001b[0m     \u001b[0mlat\u001b[0m\u001b[1;33m.\u001b[0m\u001b[0mappend\u001b[0m\u001b[1;33m(\u001b[0m\u001b[0mx\u001b[0m\u001b[1;33m)\u001b[0m\u001b[1;33m\u001b[0m\u001b[0m\n\u001b[0;32m      9\u001b[0m     \u001b[0mlon\u001b[0m\u001b[1;33m.\u001b[0m\u001b[0mappend\u001b[0m\u001b[1;33m(\u001b[0m\u001b[0my\u001b[0m\u001b[1;33m)\u001b[0m\u001b[1;33m\u001b[0m\u001b[0m\n",
      "\u001b[1;32m/home/lisgein/linuxLessons/Python/nightYandex/sort_coordinates.py\u001b[0m in \u001b[0;36mdiv_way\u001b[1;34m(x, y)\u001b[0m\n\u001b[0;32m     44\u001b[0m         \u001b[1;32mif\u001b[0m \u001b[0midx\u001b[0m \u001b[1;33m+\u001b[0m \u001b[1;36m3\u001b[0m \u001b[1;33m>=\u001b[0m \u001b[0mlen\u001b[0m\u001b[1;33m(\u001b[0m\u001b[0mx\u001b[0m\u001b[1;33m)\u001b[0m\u001b[1;33m:\u001b[0m\u001b[1;33m\u001b[0m\u001b[0m\n\u001b[0;32m     45\u001b[0m             \u001b[1;32mbreak\u001b[0m\u001b[1;33m\u001b[0m\u001b[0m\n\u001b[1;32m---> 46\u001b[1;33m         \u001b[0mway_f\u001b[0m \u001b[1;33m=\u001b[0m \u001b[0mlen_way\u001b[0m\u001b[1;33m(\u001b[0m\u001b[0mx\u001b[0m\u001b[1;33m[\u001b[0m\u001b[1;36m0\u001b[0m\u001b[1;33m]\u001b[0m\u001b[1;33m,\u001b[0m \u001b[0my\u001b[0m\u001b[1;33m[\u001b[0m\u001b[1;36m0\u001b[0m\u001b[1;33m]\u001b[0m\u001b[1;33m,\u001b[0m \u001b[0mx\u001b[0m\u001b[1;33m[\u001b[0m\u001b[0midx\u001b[0m\u001b[1;33m]\u001b[0m\u001b[1;33m,\u001b[0m \u001b[0my\u001b[0m\u001b[1;33m[\u001b[0m\u001b[0midx\u001b[0m\u001b[1;33m]\u001b[0m\u001b[1;33m)\u001b[0m\u001b[1;33m\u001b[0m\u001b[0m\n\u001b[0m\u001b[0;32m     47\u001b[0m         \u001b[0midx\u001b[0m \u001b[1;33m+=\u001b[0m \u001b[1;36m1\u001b[0m\u001b[1;33m\u001b[0m\u001b[0m\n\u001b[0;32m     48\u001b[0m         \u001b[0mway_s\u001b[0m \u001b[1;33m=\u001b[0m \u001b[0mlen_way\u001b[0m\u001b[1;33m(\u001b[0m\u001b[0mx\u001b[0m\u001b[1;33m[\u001b[0m\u001b[1;36m0\u001b[0m\u001b[1;33m]\u001b[0m\u001b[1;33m,\u001b[0m \u001b[0my\u001b[0m\u001b[1;33m[\u001b[0m\u001b[1;36m0\u001b[0m\u001b[1;33m]\u001b[0m\u001b[1;33m,\u001b[0m \u001b[0mx\u001b[0m\u001b[1;33m[\u001b[0m\u001b[0midx\u001b[0m\u001b[1;33m]\u001b[0m\u001b[1;33m,\u001b[0m \u001b[0my\u001b[0m\u001b[1;33m[\u001b[0m\u001b[0midx\u001b[0m\u001b[1;33m]\u001b[0m\u001b[1;33m)\u001b[0m\u001b[1;33m\u001b[0m\u001b[0m\n",
      "\u001b[1;31mAttributeError\u001b[0m: 'function' object has no attribute 'len_way'"
     ]
    }
   ],
   "source": [
    "import sort_coordinates\n",
    "\n",
    "lat = []\n",
    "lon = []\n",
    "for i in range(len(lon_points)):\n",
    "    print(i, \"i\")\n",
    "    x, y = sort_coordinates.div_way(lat_points[i], lon_points[i]);\n",
    "    lat.append(x)\n",
    "    lon.append(y)\n",
    "# i = 6\n",
    "# x = lat_points[i]\n",
    "# y = lon_points[i]\n",
    "# ways_x = []\n",
    "# ways_y = []\n",
    "\n",
    "# max_eps = 0.005\n",
    "# i = 1\n",
    "# f_point = 0\n",
    "# for j in range(len(x) - 6):\n",
    "#     idx = f_point+j+2\n",
    "#     if idx + 3 >= len(x):\n",
    "#         break\n",
    "#     way_f = sort_coordinates.len_way(x[0], y[0], x[idx], y[idx])\n",
    "#     idx = idx+1\n",
    "#     way_s = sort_coordinates.len_way(x[0], y[0], x[idx], y[idx])\n",
    "#     idx = idx+1\n",
    "#     way_t = sort_coordinates.len_way(x[0], y[0], x[idx], y[idx])\n",
    "#     if way_f > max_eps and  way_s > max_eps  and  way_t > max_eps:        \n",
    "#         while 1:\n",
    "#             idx = idx+1\n",
    "#             if idx == len(x):\n",
    "#                 idx = idx-1\n",
    "#                 break\n",
    "#             way_next = sort_coordinates.len_way(x[0], y[0], x[idx], y[idx])\n",
    "#             if way_next < max_eps:\n",
    "#                 idx = idx+1\n",
    "#                 if idx == len(x):\n",
    "#                     idx = idx-1\n",
    "                    \n",
    "#                 break\n",
    "                \n",
    "           \n",
    "#         idx += 1\n",
    "#         ways_x.append(x[f_point:idx])\n",
    "#         ways_y.append(y[f_point:idx])\n",
    "#         f_point = idx\n",
    "#         if f_point + j + 6 >= len(x):\n",
    "#             break\n",
    "    \n",
    "print(\"work\")    "
   ]
  },
  {
   "cell_type": "markdown",
   "metadata": {},
   "source": [
    "Сравниваю расстояние между 3-мя стартовыми координатами и тремя следующими подраяд. Если max_eps > получаю конец круга."
   ]
  },
  {
   "cell_type": "code",
   "execution_count": 180,
   "metadata": {
    "collapsed": false
   },
   "outputs": [
    {
     "name": "stdout",
     "output_type": "stream",
     "text": [
      "66 5\n"
     ]
    },
    {
     "data": {
      "image/png": "[encoded data removed]",
      "text/plain": [
       "<matplotlib.figure.Figure at 0x7fc4d8e58e48>"
      ]
     },
     "metadata": {},
     "output_type": "display_data"
    }
   ],
   "source": [
    "plt.plot(lat, lon, 'o', c = 'y')\n",
    "\n",
    "i=0\n",
    "j = 1\n",
    "plt.plot(ways_x[j][i], ways_y[j][i], 'o', c = 'r')\n",
    "i=len(ways_y[j])-1\n",
    "plt.plot(ways_x[j][i], ways_y[j][i], 'o', c = 'r')\n",
    "i=int((len(ways_y[j])-1)/2)\n",
    "plt.plot(ways_x[j][i], ways_y[j][i], 'o', c = 'r')\n",
    "\n",
    "\n",
    "print(len(ways_x[3]),len(ways_x) )"
   ]
  },
  {
   "cell_type": "markdown",
   "metadata": {},
   "source": [
    "Зелёная - это старт, желтая - это точка попадающая в \"круг\" из 15 минут."
   ]
  },
  {
   "cell_type": "markdown",
   "metadata": {},
   "source": [
    "Далее нужно найти максимально ближнюю точку и взоможно(100%) стоит сократить время \"круга\"."
   ]
  },
  {
   "cell_type": "code",
   "execution_count": 183,
   "metadata": {
    "collapsed": false
   },
   "outputs": [
    {
     "name": "stdout",
     "output_type": "stream",
     "text": [
      "2\n"
     ]
    }
   ],
   "source": [
    "i = 1\n",
    "i+=1\n",
    "print(i)"
   ]
  },
  {
   "cell_type": "code",
   "execution_count": null,
   "metadata": {
    "collapsed": true
   },
   "outputs": [],
   "source": []
  }
 ],
 "metadata": {
  "kernelspec": {
   "display_name": "Python 3",
   "language": "python",
   "name": "python3"
  },
  "language_info": {
   "codemirror_mode": {
    "name": "ipython",
    "version": 3
   },
   "file_extension": ".py",
   "mimetype": "text/x-python",
   "name": "python",
   "nbconvert_exporter": "python",
   "pygments_lexer": "ipython3",
   "version": "3.4.3"
  }
 },
 "nbformat": 4,
 "nbformat_minor": 0
}
