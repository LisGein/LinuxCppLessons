{
 "cells": [
  {
   "cell_type": "markdown",
   "metadata": {
    "collapsed": false
   },
   "source": [
    "Раскидывание данных для первого водителя по массивам:"
   ]
  },
  {
   "cell_type": "code",
   "execution_count": 1,
   "metadata": {
    "collapsed": false
   },
   "outputs": [],
   "source": [
    "%matplotlib inline\n",
    "import pandas\n",
    "import math\n",
    "import matplotlib.pyplot as plt\n",
    "import re\n",
    "import datetime\n",
    "import sort_coordinates\n",
    "\n",
    "data = pandas.read_csv('data1.tsv', sep=\"\\t\")\n",
    "debug = pandas.read_csv('debug1.tsv', sep=\"\\t\")\n",
    "#debug[debug[\"hash\"] == 86]\n",
    "# names=['date', 'id', 'type', 'hash', 'latitude', 'longitude']\n",
    "id_unique = data[\"id\"].unique()\n",
    "date_points = []\n",
    "lat_points = []\n",
    "lon_points = []\n",
    "format_date = \"%Y-%m-%d %H:%M:%S\"\n",
    "\n",
    "for i in id_unique:\n",
    "    str_date = data[data[\"id\"] == i][\"date\"].copy()\n",
    "    datepstr = []\n",
    "    for s in str_date:\n",
    "        t = datetime.datetime.strptime(s, format_date)\n",
    "        datepstr.append(t)\n",
    "    date_points.append(datepstr)\n",
    "    lat = sort_coordinates.del_invalid_idx(data[data[\"id\"] == i][\"latitude\"].copy())\n",
    "    lat_points.append(lat)\n",
    "    lon = sort_coordinates.del_invalid_idx(data[data[\"id\"] == i][\"longitude\"].copy())\n",
    "    lon_points.append(lon)"
   ]
  },
  {
   "cell_type": "markdown",
   "metadata": {
    "collapsed": true
   },
   "source": [
    "Время так же важно. Между 1 и 2 временем значительно меньше времени, чем между 2 и 3. \n",
    "Соответственно нужно посмотреть на сколько большой/маленький отрезок пройден за время между точками. А значит нужно всё таки знать скорость."
   ]
  },
  {
   "cell_type": "code",
   "execution_count": 2,
   "metadata": {
    "collapsed": false
   },
   "outputs": [],
   "source": [
    "speed = []\n",
    "for j in range(len(lat_points) - 1):\n",
    "    speed_hero = []\n",
    "    for i in range(len(lat_points[j]) - 1):\n",
    "        range_way = math.sqrt(math.pow(lat_points[j][i+1] - lat_points[j][i], 2)\n",
    "                              + math.pow(lon_points[j][i+1] - lon_points[j][i], 2))\n",
    "        range_time = (date_points[j][i + 1] - date_points[j][i]).total_seconds()\n",
    "        speed_hero.append(range_way/range_time)\n",
    "    speed.append(speed_hero)\n"
   ]
  },
  {
   "cell_type": "code",
   "execution_count": 3,
   "metadata": {
    "collapsed": false
   },
   "outputs": [],
   "source": [
    "import sort_coordinates\n",
    "\n",
    "sort_speed = []\n",
    "\n",
    "idx = 0\n",
    "\n",
    "sort_lat = []\n",
    "sort_lon = []\n",
    "for i in range(len(speed)-1):\n",
    "    temp_lat_points = sort_coordinates.del_invalid_idx(lat_points[i])\n",
    "    temp_lon_points = sort_coordinates.del_invalid_idx(lon_points[i])\n",
    "    lat = []\n",
    "    lon = []\n",
    "    sp = []\n",
    "    temp_speed_array = speed[i].copy()\n",
    "    while len(temp_speed_array) != 0:\n",
    "        min_speed = 100000\n",
    "        for i in range(len(temp_speed_array)-1):\n",
    "            if min_speed > temp_speed_array[i]:\n",
    "                min_speed = temp_speed_array[i]\n",
    "                idx = i\n",
    "        sp.append((idx, temp_speed_array.pop(idx)))\n",
    "        lat.append((temp_lat_points.pop(idx), temp_lat_points[idx]))\n",
    "        lon.append((temp_lon_points.pop(idx), temp_lon_points[idx]))\n",
    "    sort_lat.append(lat)\n",
    "    sort_lon.append(lon)\n",
    "    sort_speed.append(sp)\n",
    "\n"
   ]
  },
  {
   "cell_type": "markdown",
   "metadata": {},
   "source": [
    "Как отсортировать скорость сохраняя индекс вторым параметром?"
   ]
  },
  {
   "cell_type": "markdown",
   "metadata": {
    "collapsed": true
   },
   "source": [
    "Нужно понять какая скорость максимальная для остановок, чтобы решить какое кол-во точек, где тормозит водитель брать. Плюс нельзя забывать о том, что их в любом случае должно быть значительно больше так как светафоры/пробки..."
   ]
  },
  {
   "cell_type": "code",
   "execution_count": 4,
   "metadata": {
    "collapsed": false
   },
   "outputs": [
    {
     "data": {
      "text/plain": [
       "[<matplotlib.lines.Line2D at 0x7f5e7879c0f0>]"
      ]
     },
     "execution_count": 4,
     "metadata": {},
     "output_type": "execute_result"
    },
    {
     "data": {
      "image/png": "[encoded data removed]",
      "text/plain": [
       "<matplotlib.figure.Figure at 0x7f5e789a0e10>"
      ]
     },
     "metadata": {},
     "output_type": "display_data"
    }
   ],
   "source": [
    "plt.plot(lat, lon, 'o', c = 'r')\n",
    "plt.plot(debug[\"latitude\"], debug[\"longitude\"], 'o', c = 'g')"
   ]
  },
  {
   "cell_type": "markdown",
   "metadata": {},
   "source": [
    "Нужно придумать как определять число остановок и предварительно разделить маршрут на 2 части - в одну и в другую сторону."
   ]
  },
  {
   "cell_type": "markdown",
   "metadata": {},
   "source": [
    "Можно основываясь на данных debug определить минимальную скорость для отрезка на котором находиться остановка."
   ]
  },
  {
   "cell_type": "markdown",
   "metadata": {},
   "source": [
    "Причём надо не индекс точки запоминать, а именно отрезки соединяющие эти точки."
   ]
  },
  {
   "cell_type": "markdown",
   "metadata": {},
   "source": [
    "Поиск первого круга:"
   ]
  },
  {
   "cell_type": "code",
   "execution_count": 5,
   "metadata": {
    "collapsed": false
   },
   "outputs": [
    {
     "name": "stdout",
     "output_type": "stream",
     "text": [
      "0 i\n",
      "30 350\n",
      "87 350\n",
      "144 350\n",
      "213 350\n",
      "326 350\n",
      "1 i\n",
      "128 1105\n",
      "341 1105\n",
      "593 1105\n",
      "982 1105\n",
      "2 i\n",
      "31 308\n",
      "89 308\n",
      "153 308\n",
      "215 308\n",
      "308 308\n",
      "3 i\n",
      "32 273\n",
      "87 273\n",
      "149 273\n",
      "216 273\n",
      "4 i\n",
      "116 226\n",
      "226 226\n",
      "5 i\n",
      "129 1021\n",
      "361 1021\n",
      "794 1021\n",
      "6 i\n",
      "134 1105\n",
      "358 1105\n",
      "591 1105\n",
      "813 1105\n",
      "1105 1105\n",
      "7 i\n",
      "101 1058\n",
      "289 1058\n",
      "528 1058\n",
      "967 1058\n",
      "8 i\n",
      "31 608\n",
      "100 608\n",
      "209 608\n",
      "380 608\n",
      "559 608\n",
      "9 i\n",
      "117 221\n",
      "221 221\n",
      "work\n"
     ]
    }
   ],
   "source": [
    "import sort_coordinates\n",
    "\n",
    "lat = []\n",
    "lon = []\n",
    "for i in range(len(lon_points)):\n",
    "    print(i, \"i\")\n",
    "    x, y = sort_coordinates.div_way(lat_points[i], lon_points[i]);\n",
    "    for idx in range(len(x)):\n",
    "        \n",
    "        lat.append(x[idx])\n",
    "        lon.append(y[idx])\n",
    "# i = 6\n",
    "# x = lat_points[i]\n",
    "# y = lon_points[i]\n",
    "# ways_x = []\n",
    "# ways_y = []\n",
    "\n",
    "# max_eps = 0.005\n",
    "# i = 1\n",
    "# f_point = 0\n",
    "# for j in range(len(x) - 6):\n",
    "#     idx = f_point+j+2\n",
    "#     if idx + 3 >= len(x):\n",
    "#         break\n",
    "#     way_f = sort_coordinates.len_way(x[0], y[0], x[idx], y[idx])\n",
    "#     idx = idx+1\n",
    "#     way_s = sort_coordinates.len_way(x[0], y[0], x[idx], y[idx])\n",
    "#     idx = idx+1\n",
    "#     way_t = sort_coordinates.len_way(x[0], y[0], x[idx], y[idx])\n",
    "#     if way_f > max_eps and  way_s > max_eps  and  way_t > max_eps:        \n",
    "#         while 1:\n",
    "#             idx = idx+1\n",
    "#             if idx == len(x):\n",
    "#                 idx = idx-1\n",
    "#                 break\n",
    "#             way_next = sort_coordinates.len_way(x[0], y[0], x[idx], y[idx])\n",
    "#             if way_next < max_eps:\n",
    "#                 idx = idx+1\n",
    "#                 if idx == len(x):\n",
    "#                     idx = idx-1\n",
    "                    \n",
    "#                 break\n",
    "                \n",
    "           \n",
    "#         idx += 1\n",
    "#         ways_x.append(x[f_point:idx])\n",
    "#         ways_y.append(y[f_point:idx])\n",
    "#         f_point = idx\n",
    "#         if f_point + j + 6 >= len(x):\n",
    "#             break\n",
    "    \n",
    "print(\"work\")    "
   ]
  },
  {
   "cell_type": "markdown",
   "metadata": {},
   "source": [
    "Сравниваю расстояние между 3-мя стартовыми координатами и тремя следующими подраяд. Если max_eps > получаю конец круга."
   ]
  },
  {
   "cell_type": "code",
   "execution_count": 11,
   "metadata": {
    "collapsed": false
   },
   "outputs": [
    {
     "name": "stdout",
     "output_type": "stream",
     "text": [
      "30\n"
     ]
    },
    {
     "data": {
      "text/plain": [
       "[<matplotlib.lines.Line2D at 0x7f5e78498978>]"
      ]
     },
     "execution_count": 11,
     "metadata": {},
     "output_type": "execute_result"
    },
    {
     "data": {
      "image/png": "[encoded data removed]",
      "text/plain": [
       "<matplotlib.figure.Figure at 0x7f5e784c1b38>"
      ]
     },
     "metadata": {},
     "output_type": "display_data"
    }
   ],
   "source": [
    "plt.plot(lat[0], lon[0], 'o', c = 'y')\n",
    "#plt.plot(lat[0], lon[0], 'o', c = 'r')\n",
    "\n",
    "i = 0\n",
    "j = 0\n",
    "plt.plot(lat[j][i], lon[j][i], 'o', c = 'g')\n",
    "print (len(lat[j]))\n",
    "i=len(lat[j])-1\n",
    "plt.plot(lat[j][i], lon[j][i], 'o', c = 'b')\n",
    "i=int((len(lat[j])-1)/2)\n",
    "plt.plot(lat[j][i], lon[j][i], 'o', c = 'r')\n",
    "\n"
   ]
  },
  {
   "cell_type": "markdown",
   "metadata": {
    "collapsed": false
   },
   "source": [
    "В какой- то из версий практически идеально разделялись данные, потом я решила вынести код функции и теперь отделяется как-то по китайски."
   ]
  },
  {
   "cell_type": "code",
   "execution_count": null,
   "metadata": {
    "collapsed": true
   },
   "outputs": [],
   "source": []
  }
 ],
 "metadata": {
  "kernelspec": {
   "display_name": "Python 3",
   "language": "python",
   "name": "python3"
  },
  "language_info": {
   "codemirror_mode": {
    "name": "ipython",
    "version": 3
   },
   "file_extension": ".py",
   "mimetype": "text/x-python",
   "name": "python",
   "nbconvert_exporter": "python",
   "pygments_lexer": "ipython3",
   "version": "3.4.3"
  }
 },
 "nbformat": 4,
 "nbformat_minor": 0
}
