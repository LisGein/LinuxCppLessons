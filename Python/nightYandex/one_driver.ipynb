{
 "cells": [
  {
   "cell_type": "markdown",
   "metadata": {
    "collapsed": false
   },
   "source": [
    "Раскидывание данных для первого водителя по массивам:"
   ]
  },
  {
   "cell_type": "code",
   "execution_count": 1,
   "metadata": {
    "collapsed": false
   },
   "outputs": [],
   "source": [
    "%matplotlib inline\n",
    "import pandas\n",
    "import math\n",
    "import matplotlib.pyplot as plt\n",
    "import re\n",
    "import datetime\n",
    "import sort_coordinates\n",
    "\n",
    "data = pandas.read_csv('data1.tsv', sep=\"\\t\")\n",
    "id_unique = data[\"id\"].unique()\n",
    "date_points = []\n",
    "lat_points = []\n",
    "lon_points = []\n",
    "format_date = \"%Y-%m-%d %H:%M:%S\"\n",
    "\n",
    "for i in id_unique:\n",
    "    str_date = data[data[\"id\"] == i][\"date\"].copy()\n",
    "    datepstr = []\n",
    "    for s in str_date:\n",
    "        t = datetime.datetime.strptime(s, format_date)\n",
    "        datepstr.append(t)\n",
    "    date_points.append(datepstr)\n",
    "    lat = sort_coordinates.del_invalid_idx(data[data[\"id\"] == i][\"latitude\"].copy())\n",
    "    lat_points.append(lat)\n",
    "    lon = sort_coordinates.del_invalid_idx(data[data[\"id\"] == i][\"longitude\"].copy())\n",
    "    lon_points.append(lon)"
   ]
  },
  {
   "cell_type": "markdown",
   "metadata": {},
   "source": [
    "Нужно придумать как определять число остановок и предварительно разделить маршрут на 2 части - в одну и в другую сторону."
   ]
  },
  {
   "cell_type": "code",
   "execution_count": 2,
   "metadata": {
    "collapsed": false
   },
   "outputs": [],
   "source": [
    "import rounds\n",
    "lat = []\n",
    "lon = []\n",
    "timestamps = []\n",
    "for i in range(len(lon_points)):\n",
    "    x, y, time = rounds.div_rounds(lat_points[i], lon_points[i], date_points[i]);\n",
    "    for idx in range(len(x)):\n",
    "        lat.append(x[idx])\n",
    "        lon.append(y[idx])\n",
    "        timestamps.append(time[idx])\n",
    "len_data_round =  len(lat)"
   ]
  },
  {
   "cell_type": "code",
   "execution_count": 3,
   "metadata": {
    "collapsed": false
   },
   "outputs": [
    {
     "data": {
      "image/png": "[encoded data removed]",
      "text/plain": [
       "<matplotlib.figure.Figure at 0x7f6405152a20>"
      ]
     },
     "metadata": {},
     "output_type": "display_data"
    }
   ],
   "source": [
    "plt.plot(data[\"latitude\"], data[\"longitude\"], 'o', c = 'y')\n",
    "\n",
    "j = 30\n",
    "plt.plot(lat[0][0], lon[0][0], 'o', c = 'g')\n",
    "for j in range(len(lat)-1):\n",
    "    i = 0\n",
    "    plt.plot(lat[j][0], lon[j][0], 'o', c = 'g')\n",
    "    i=int((len(lat[j])-1)/2)\n",
    "    plt.plot(lat[j][i], lon[j][i], 'o', c = 'r')\n",
    "    i=(len(lat[j])-1)\n",
    "    plt.plot(lat[j][i], lon[j][i], 'o', c = 'b')"
   ]
  },
  {
   "cell_type": "markdown",
   "metadata": {},
   "source": [
    "Этот график проверка, что данные отделяются верно. Ещё не много стоит его доработать."
   ]
  },
  {
   "cell_type": "code",
   "execution_count": 4,
   "metadata": {
    "collapsed": false
   },
   "outputs": [],
   "source": [
    "from speed import find_speed\n",
    "\n",
    "speeds = []\n",
    "for i in range(len_data_round - 1):\n",
    "    speeds.append(find_speed(lat[i], lon[i], timestamps[i]))"
   ]
  },
  {
   "cell_type": "code",
   "execution_count": 5,
   "metadata": {
    "collapsed": false
   },
   "outputs": [
    {
     "name": "stdout",
     "output_type": "stream",
     "text": [
      "7.606007088290848\n",
      "13.017408379488728\n",
      "5.895932475283166\n",
      "9.267839404211102\n",
      "5.139352628958706\n",
      "10.517146367252954\n",
      "11.943125637793928\n",
      "4.011562801590841\n",
      "4.255139906628979\n",
      "6.062429381032607\n"
     ]
    }
   ],
   "source": [
    "for i in range(10):\n",
    "        print(speeds[1][i]*100000)"
   ]
  },
  {
   "cell_type": "markdown",
   "metadata": {
    "collapsed": true
   },
   "source": [
    "Думаю, что минимальный порог 4 будет оптимальным."
   ]
  },
  {
   "cell_type": "code",
   "execution_count": 6,
   "metadata": {
    "collapsed": true
   },
   "outputs": [],
   "source": [
    "from rounds import min_speed_points\n",
    "\n",
    "points_x = []\n",
    "points_y = []\n",
    "speed_points = []\n",
    "for i in range(len(lat) - 1):\n",
    "    point_x, point_y, speed = min_speed_points(lat[i], lon[i], speeds[i])\n",
    "    points_x.append(point_x)\n",
    "    points_y.append(point_y)\n",
    "    speed_points.append(speed)"
   ]
  },
  {
   "cell_type": "code",
   "execution_count": 12,
   "metadata": {
    "collapsed": false
   },
   "outputs": [
    {
     "data": {
      "text/plain": [
       "[<matplotlib.lines.Line2D at 0x7f6404db62e8>]"
      ]
     },
     "execution_count": 12,
     "metadata": {},
     "output_type": "execute_result"
    },
    {
     "data": {
      "image/png": "[encoded data removed]",
      "text/plain": [
       "<matplotlib.figure.Figure at 0x7f6404fe5080>"
      ]
     },
     "metadata": {},
     "output_type": "display_data"
    }
   ],
   "source": [
    "#for i in range(len(points_x) - 1):\n",
    "plt.plot(points_x[0], points_y[0], 'o', c = 'b')"
   ]
  },
  {
   "cell_type": "code",
   "execution_count": null,
   "metadata": {
    "collapsed": true
   },
   "outputs": [],
   "source": []
  }
 ],
 "metadata": {
  "kernelspec": {
   "display_name": "Python 3",
   "language": "python",
   "name": "python3"
  },
  "language_info": {
   "codemirror_mode": {
    "name": "ipython",
    "version": 3
   },
   "file_extension": ".py",
   "mimetype": "text/x-python",
   "name": "python",
   "nbconvert_exporter": "python",
   "pygments_lexer": "ipython3",
   "version": "3.4.3"
  }
 },
 "nbformat": 4,
 "nbformat_minor": 0
}
