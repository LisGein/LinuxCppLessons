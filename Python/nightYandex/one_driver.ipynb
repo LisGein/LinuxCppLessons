{
 "cells": [
  {
   "cell_type": "markdown",
   "metadata": {
    "collapsed": false
   },
   "source": [
    "Раскидывание данных для первого водителя по массивам:"
   ]
  },
  {
   "cell_type": "code",
   "execution_count": 1,
   "metadata": {
    "collapsed": false
   },
   "outputs": [],
   "source": [
    "%matplotlib inline\n",
    "import pandas\n",
    "import math\n",
    "import matplotlib.pyplot as plt\n",
    "import re\n",
    "import datetime\n",
    "import sort_coordinates\n",
    "\n",
    "data = pandas.read_csv('data1.tsv', sep=\"\\t\")\n",
    "debug = pandas.read_csv('debug1.tsv', sep=\"\\t\")\n",
    "#debug[debug[\"hash\"] == 86]\n",
    "# names=['date', 'id', 'type', 'hash', 'latitude', 'longitude']\n",
    "id_unique = data[\"id\"].unique()\n",
    "date_points = []\n",
    "lat_points = []\n",
    "lon_points = []\n",
    "format_date = \"%Y-%m-%d %H:%M:%S\"\n",
    "\n",
    "for i in id_unique:\n",
    "    str_date = data[data[\"id\"] == i][\"date\"].copy()\n",
    "    datepstr = []\n",
    "    for s in str_date:\n",
    "        t = datetime.datetime.strptime(s, format_date)\n",
    "        datepstr.append(t)\n",
    "    date_points.append(datepstr)\n",
    "    lat = sort_coordinates.del_invalid_idx(data[data[\"id\"] == i][\"latitude\"].copy())\n",
    "    lat_points.append(lat)\n",
    "    lon = sort_coordinates.del_invalid_idx(data[data[\"id\"] == i][\"longitude\"].copy())\n",
    "    lon_points.append(lon)"
   ]
  },
  {
   "cell_type": "markdown",
   "metadata": {
    "collapsed": true
   },
   "source": [
    "Время так же важно. Между 1 и 2 временем значительно меньше времени, чем между 2 и 3. \n",
    "Соответственно нужно посмотреть на сколько большой/маленький отрезок пройден за время между точками. А значит нужно всё таки знать скорость."
   ]
  },
  {
   "cell_type": "code",
   "execution_count": 2,
   "metadata": {
    "collapsed": false
   },
   "outputs": [],
   "source": [
    "speed = []\n",
    "for j in range(len(lat_points) - 1):\n",
    "    speed_hero = []\n",
    "    for i in range(len(lat_points[j]) - 1):\n",
    "        range_way = math.sqrt(math.pow(lat_points[j][i+1] - lat_points[j][i], 2)\n",
    "                              + math.pow(lon_points[j][i+1] - lon_points[j][i], 2))\n",
    "        range_time = (date_points[j][i + 1] - date_points[j][i]).total_seconds()\n",
    "        speed_hero.append(range_way/range_time)\n",
    "    speed.append(speed_hero)\n"
   ]
  },
  {
   "cell_type": "code",
   "execution_count": 3,
   "metadata": {
    "collapsed": false
   },
   "outputs": [],
   "source": [
    "import sort_coordinates\n",
    "\n",
    "sort_speed = []\n",
    "\n",
    "idx = 0\n",
    "\n",
    "sort_lat = []\n",
    "sort_lon = []\n",
    "for i in range(len(speed)-1):\n",
    "    temp_lat_points = sort_coordinates.del_invalid_idx(lat_points[i])\n",
    "    temp_lon_points = sort_coordinates.del_invalid_idx(lon_points[i])\n",
    "    lat = []\n",
    "    lon = []\n",
    "    sp = []\n",
    "    temp_speed_array = speed[i].copy()\n",
    "    while len(temp_speed_array) != 0:\n",
    "        min_speed = 100000\n",
    "        for i in range(len(temp_speed_array)-1):\n",
    "            if min_speed > temp_speed_array[i]:\n",
    "                min_speed = temp_speed_array[i]\n",
    "                idx = i\n",
    "        sp.append((idx, temp_speed_array.pop(idx)))\n",
    "        lat.append((temp_lat_points.pop(idx), temp_lat_points[idx]))\n",
    "        lon.append((temp_lon_points.pop(idx), temp_lon_points[idx]))\n",
    "    sort_lat.append(lat)\n",
    "    sort_lon.append(lon)\n",
    "    sort_speed.append(sp)\n",
    "\n"
   ]
  },
  {
   "cell_type": "markdown",
   "metadata": {},
   "source": [
    "Как отсортировать скорость сохраняя индекс вторым параметром?"
   ]
  },
  {
   "cell_type": "markdown",
   "metadata": {
    "collapsed": true
   },
   "source": [
    "Нужно понять какая скорость максимальная для остановок, чтобы решить какое кол-во точек, где тормозит водитель брать. Плюс нельзя забывать о том, что их в любом случае должно быть значительно больше так как светафоры/пробки..."
   ]
  },
  {
   "cell_type": "code",
   "execution_count": 4,
   "metadata": {
    "collapsed": false
   },
   "outputs": [
    {
     "data": {
      "text/plain": [
       "[<matplotlib.lines.Line2D at 0x7f85974d3f60>]"
      ]
     },
     "execution_count": 4,
     "metadata": {},
     "output_type": "execute_result"
    },
    {
     "data": {
      "image/png": "[encoded data removed]",
      "text/plain": [
       "<matplotlib.figure.Figure at 0x7f8596f2ee10>"
      ]
     },
     "metadata": {},
     "output_type": "display_data"
    }
   ],
   "source": [
    "plt.plot(lat, lon, 'o')\n",
    "plt.plot(debug[\"latitude\"], debug[\"longitude\"], 'o', c = 'g')"
   ]
  },
  {
   "cell_type": "markdown",
   "metadata": {},
   "source": [
    "Нужно придумать как определять число остановок и предварительно разделить маршрут на 2 части - в одну и в другую сторону."
   ]
  },
  {
   "cell_type": "markdown",
   "metadata": {},
   "source": [
    "Можно основываясь на данных debug определить минимальную скорость для отрезка на котором находиться остановка."
   ]
  },
  {
   "cell_type": "markdown",
   "metadata": {},
   "source": [
    "Причём надо не индекс точки запоминать, а именно отрезки соединяющие эти точки."
   ]
  },
  {
   "cell_type": "markdown",
   "metadata": {},
   "source": [
    "Поиск первого круга:"
   ]
  },
  {
   "cell_type": "code",
   "execution_count": 5,
   "metadata": {
    "collapsed": false
   },
   "outputs": [
    {
     "name": "stdout",
     "output_type": "stream",
     "text": [
      "0.46569322023087273 0.46569322023087273\n",
      "0.46572034854512157 0.46569322023087273\n"
     ]
    }
   ],
   "source": [
    "f_lat_points = []\n",
    "f_lon_points = []\n",
    "s_lat_points = []\n",
    "s_lon_points = []\n",
    "ways_x = []\n",
    "ways_y = []\n",
    "f_point_x = [date_points[0][0], date_points[0][1], date_points[0][2]]\n",
    "f_point_y = [date_points[0][0], date_points[0][1], date_points[0][2]]\n",
    "b_lat_points = []\n",
    "b_lon_points = []\n",
    "range_time = 0\n",
    "i = 0\n",
    "while range_time < 5*60:\n",
    "    i = i + 1\n",
    "    range_time = (date_points[0][i] - date_points[0][0]).total_seconds()\n",
    "max_eps = math.sqrt(math.pow(lat_points[0][i]- lat_points[0][0], 2)\n",
    "                      + math.pow(lat_points[0][i] - lon_points[0][0], 2))\n",
    "for j in range(len(lat_points[0]) - i - 4):\n",
    "    way_f = math.sqrt(math.pow(lat_points[0][j+i+1]- lat_points[0][0], 2)\n",
    "                      + math.pow(lat_points[0][j+i+1] - lon_points[0][0], 2))\n",
    "    way_s = math.sqrt(math.pow(lat_points[0][j+i+2]- lat_points[0][0], 2)\n",
    "                      + math.pow(lat_points[0][j+i+2] - lon_points[0][0], 2))\n",
    "    way_t = math.sqrt(math.pow(lat_points[0][j+i+3]- lat_points[0][0], 2)\n",
    "                      + math.pow(lat_points[0][j+i+3] - lon_points[0][0], 2))\n",
    "    if way_f > max_eps and  way_s > max_eps  and  way_t > max_eps:\n",
    "        idx_last_point = 0\n",
    "        \n",
    "        while (1):\n",
    "            way_next = math.sqrt(math.pow(lat_points[0][j+i+3 + idx_last_point]- lat_points[0][0], 2)\n",
    "                                 + math.pow(lat_points[0][j+i+3 + idx_last_point] - lon_points[0][0], 2))\n",
    "            print(way_next , way_t)\n",
    "            if (way_t < way_next):\n",
    "                break\n",
    "                \n",
    "            idx_last_point = idx_last_point + 1\n",
    "           \n",
    "            \n",
    "        ways_x= lat_points[0][:j+3+i + idx_last_point + 1]\n",
    "        ways_y = lon_points[0][:j+3+i + idx_last_point + 1]\n",
    "        break\n",
    "    \n",
    "         "
   ]
  },
  {
   "cell_type": "markdown",
   "metadata": {},
   "source": [
    "Сравниваю расстояние между 3-мя стартовыми координатами и тремя следующими подраяд. Если max_eps > получаю конец круга."
   ]
  },
  {
   "cell_type": "code",
   "execution_count": 6,
   "metadata": {
    "collapsed": false
   },
   "outputs": [
    {
     "name": "stdout",
     "output_type": "stream",
     "text": [
      "1\n"
     ]
    },
    {
     "data": {
      "text/plain": [
       "[<matplotlib.lines.Line2D at 0x7f85973ca320>]"
      ]
     },
     "execution_count": 6,
     "metadata": {},
     "output_type": "execute_result"
    },
    {
     "data": {
      "image/png": "[encoded data removed]",
      "text/plain": [
       "<matplotlib.figure.Figure at 0x7f85974fc780>"
      ]
     },
     "metadata": {},
     "output_type": "display_data"
    }
   ],
   "source": [
    "plt.plot(lat, lon, 'o', c = 'r')\n",
    "print (i)\n",
    "\n",
    "plt.plot(ways_x[len(ways_x)-2], ways_y[len(ways_x)-2], 'o', c = 'g')\n",
    "plt.plot(ways_x[len(ways_x)-3], ways_y[len(ways_x)-3], 'o', c = 'y')\n",
    "plt.plot(ways_x[0], ways_y[0], 'o', c = 'g')"
   ]
  },
  {
   "cell_type": "markdown",
   "metadata": {},
   "source": [
    "Зелёная - это старт, желтая - это точка попадающая в \"круг\" из 15 минут."
   ]
  },
  {
   "cell_type": "markdown",
   "metadata": {},
   "source": [
    "Далее нужно найти максимально ближнюю точку и взоможно(100%) стоит сократить время \"круга\"."
   ]
  },
  {
   "cell_type": "code",
   "execution_count": 9,
   "metadata": {
    "collapsed": false
   },
   "outputs": [
    {
     "name": "stdout",
     "output_type": "stream",
     "text": [
      "47\n"
     ]
    }
   ],
   "source": [
    "l = debug[\"latitude\"].copy()\n",
    "print(len (l))"
   ]
  },
  {
   "cell_type": "code",
   "execution_count": 10,
   "metadata": {
    "collapsed": false
   },
   "outputs": [
    {
     "ename": "KeyError",
     "evalue": "30",
     "output_type": "error",
     "traceback": [
      "\u001b[1;31m---------------------------------------------------------------------------\u001b[0m",
      "\u001b[1;31mKeyError\u001b[0m                                  Traceback (most recent call last)",
      "\u001b[1;32m<ipython-input-10-6212d2fffc55>\u001b[0m in \u001b[0;36m<module>\u001b[1;34m()\u001b[0m\n\u001b[0;32m      1\u001b[0m \u001b[0ml\u001b[0m\u001b[1;33m.\u001b[0m\u001b[0mpop\u001b[0m\u001b[1;33m(\u001b[0m\u001b[1;36m30\u001b[0m\u001b[1;33m)\u001b[0m\u001b[1;33m\u001b[0m\u001b[0m\n\u001b[1;32m----> 2\u001b[1;33m \u001b[0mprint\u001b[0m\u001b[1;33m(\u001b[0m\u001b[0ml\u001b[0m\u001b[1;33m[\u001b[0m\u001b[1;36m30\u001b[0m\u001b[1;33m]\u001b[0m\u001b[1;33m)\u001b[0m\u001b[1;33m\u001b[0m\u001b[0m\n\u001b[0m",
      "\u001b[1;32m/usr/lib/python3/dist-packages/pandas/core/series.py\u001b[0m in \u001b[0;36m__getitem__\u001b[1;34m(self, key)\u001b[0m\n\u001b[0;32m    489\u001b[0m     \u001b[1;32mdef\u001b[0m \u001b[0m__getitem__\u001b[0m\u001b[1;33m(\u001b[0m\u001b[0mself\u001b[0m\u001b[1;33m,\u001b[0m \u001b[0mkey\u001b[0m\u001b[1;33m)\u001b[0m\u001b[1;33m:\u001b[0m\u001b[1;33m\u001b[0m\u001b[0m\n\u001b[0;32m    490\u001b[0m         \u001b[1;32mtry\u001b[0m\u001b[1;33m:\u001b[0m\u001b[1;33m\u001b[0m\u001b[0m\n\u001b[1;32m--> 491\u001b[1;33m             \u001b[0mresult\u001b[0m \u001b[1;33m=\u001b[0m \u001b[0mself\u001b[0m\u001b[1;33m.\u001b[0m\u001b[0mindex\u001b[0m\u001b[1;33m.\u001b[0m\u001b[0mget_value\u001b[0m\u001b[1;33m(\u001b[0m\u001b[0mself\u001b[0m\u001b[1;33m,\u001b[0m \u001b[0mkey\u001b[0m\u001b[1;33m)\u001b[0m\u001b[1;33m\u001b[0m\u001b[0m\n\u001b[0m\u001b[0;32m    492\u001b[0m             \u001b[1;32mif\u001b[0m \u001b[0misinstance\u001b[0m\u001b[1;33m(\u001b[0m\u001b[0mresult\u001b[0m\u001b[1;33m,\u001b[0m \u001b[0mnp\u001b[0m\u001b[1;33m.\u001b[0m\u001b[0mndarray\u001b[0m\u001b[1;33m)\u001b[0m\u001b[1;33m:\u001b[0m\u001b[1;33m\u001b[0m\u001b[0m\n\u001b[0;32m    493\u001b[0m                 \u001b[1;32mreturn\u001b[0m \u001b[0mself\u001b[0m\u001b[1;33m.\u001b[0m\u001b[0m_constructor\u001b[0m\u001b[1;33m(\u001b[0m\u001b[0mresult\u001b[0m\u001b[1;33m,\u001b[0m\u001b[0mindex\u001b[0m\u001b[1;33m=\u001b[0m\u001b[1;33m[\u001b[0m\u001b[0mkey\u001b[0m\u001b[1;33m]\u001b[0m\u001b[1;33m*\u001b[0m\u001b[0mlen\u001b[0m\u001b[1;33m(\u001b[0m\u001b[0mresult\u001b[0m\u001b[1;33m)\u001b[0m\u001b[1;33m)\u001b[0m\u001b[1;33m.\u001b[0m\u001b[0m__finalize__\u001b[0m\u001b[1;33m(\u001b[0m\u001b[0mself\u001b[0m\u001b[1;33m)\u001b[0m\u001b[1;33m\u001b[0m\u001b[0m\n",
      "\u001b[1;32m/usr/lib/python3/dist-packages/pandas/core/index.py\u001b[0m in \u001b[0;36mget_value\u001b[1;34m(self, series, key)\u001b[0m\n\u001b[0;32m   1030\u001b[0m \u001b[1;33m\u001b[0m\u001b[0m\n\u001b[0;32m   1031\u001b[0m         \u001b[1;32mtry\u001b[0m\u001b[1;33m:\u001b[0m\u001b[1;33m\u001b[0m\u001b[0m\n\u001b[1;32m-> 1032\u001b[1;33m             \u001b[1;32mreturn\u001b[0m \u001b[0mself\u001b[0m\u001b[1;33m.\u001b[0m\u001b[0m_engine\u001b[0m\u001b[1;33m.\u001b[0m\u001b[0mget_value\u001b[0m\u001b[1;33m(\u001b[0m\u001b[0ms\u001b[0m\u001b[1;33m,\u001b[0m \u001b[0mk\u001b[0m\u001b[1;33m)\u001b[0m\u001b[1;33m\u001b[0m\u001b[0m\n\u001b[0m\u001b[0;32m   1033\u001b[0m         \u001b[1;32mexcept\u001b[0m \u001b[0mKeyError\u001b[0m \u001b[1;32mas\u001b[0m \u001b[0me1\u001b[0m\u001b[1;33m:\u001b[0m\u001b[1;33m\u001b[0m\u001b[0m\n\u001b[0;32m   1034\u001b[0m             \u001b[1;32mif\u001b[0m \u001b[0mlen\u001b[0m\u001b[1;33m(\u001b[0m\u001b[0mself\u001b[0m\u001b[1;33m)\u001b[0m \u001b[1;33m>\u001b[0m \u001b[1;36m0\u001b[0m \u001b[1;32mand\u001b[0m \u001b[0mself\u001b[0m\u001b[1;33m.\u001b[0m\u001b[0minferred_type\u001b[0m \u001b[1;33m==\u001b[0m \u001b[1;34m'integer'\u001b[0m\u001b[1;33m:\u001b[0m\u001b[1;33m\u001b[0m\u001b[0m\n",
      "\u001b[1;32mindex.pyx\u001b[0m in \u001b[0;36mpandas.index.IndexEngine.get_value (pandas/index.c:2890)\u001b[1;34m()\u001b[0m\n",
      "\u001b[1;32mindex.pyx\u001b[0m in \u001b[0;36mpandas.index.IndexEngine.get_value (pandas/index.c:2702)\u001b[1;34m()\u001b[0m\n",
      "\u001b[1;32mindex.pyx\u001b[0m in \u001b[0;36mpandas.index.IndexEngine.get_loc (pandas/index.c:3440)\u001b[1;34m()\u001b[0m\n",
      "\u001b[1;32mhashtable.pyx\u001b[0m in \u001b[0;36mpandas.hashtable.Int64HashTable.get_item (pandas/hashtable.c:6595)\u001b[1;34m()\u001b[0m\n",
      "\u001b[1;32mhashtable.pyx\u001b[0m in \u001b[0;36mpandas.hashtable.Int64HashTable.get_item (pandas/hashtable.c:6536)\u001b[1;34m()\u001b[0m\n",
      "\u001b[1;31mKeyError\u001b[0m: 30"
     ]
    }
   ],
   "source": [
    "l.pop(30)\n",
    "print(l[30])"
   ]
  },
  {
   "cell_type": "code",
   "execution_count": null,
   "metadata": {
    "collapsed": true
   },
   "outputs": [],
   "source": []
  }
 ],
 "metadata": {
  "kernelspec": {
   "display_name": "Python 3",
   "language": "python",
   "name": "python3"
  },
  "language_info": {
   "codemirror_mode": {
    "name": "ipython",
    "version": 3
   },
   "file_extension": ".py",
   "mimetype": "text/x-python",
   "name": "python",
   "nbconvert_exporter": "python",
   "pygments_lexer": "ipython3",
   "version": "3.4.3"
  }
 },
 "nbformat": 4,
 "nbformat_minor": 0
}
