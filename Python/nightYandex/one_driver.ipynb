{
 "cells": [
  {
   "cell_type": "markdown",
   "metadata": {
    "collapsed": false
   },
   "source": [
    "Раскидывание данных для первого водителя по массивам:"
   ]
  },
  {
   "cell_type": "code",
   "execution_count": 7,
   "metadata": {
    "collapsed": false
   },
   "outputs": [],
   "source": [
    "%matplotlib inline\n",
    "import pandas\n",
    "import math\n",
    "import matplotlib.pyplot as plt\n",
    "import re\n",
    "import datetime\n",
    "import sort_coordinates\n",
    "\n",
    "data = pandas.read_csv('data1.tsv', sep=\"\\t\")\n",
    "debug = pandas.read_csv('debug1.tsv', sep=\"\\t\")\n",
    "#debug[debug[\"hash\"] == 86]\n",
    "# names=['date', 'id', 'type', 'hash', 'latitude', 'longitude']\n",
    "id_unique = data[\"id\"].unique()\n",
    "date_points = []\n",
    "lat_points = []\n",
    "lon_points = []\n",
    "format_date = \"%Y-%m-%d %H:%M:%S\"\n",
    "\n",
    "for i in id_unique:\n",
    "    str_date = data[data[\"id\"] == i][\"date\"].copy()\n",
    "    datepstr = []\n",
    "    for s in str_date:\n",
    "        t = datetime.datetime.strptime(s, format_date)\n",
    "        datepstr.append(t)\n",
    "    date_points.append(datepstr)\n",
    "    lat = sort_coordinates.del_invalid_idx(data[data[\"id\"] == i][\"latitude\"].copy())\n",
    "    lat_points.append(lat)\n",
    "    lon = sort_coordinates.del_invalid_idx(data[data[\"id\"] == i][\"longitude\"].copy())\n",
    "    lon_points.append(lon)"
   ]
  },
  {
   "cell_type": "markdown",
   "metadata": {
    "collapsed": true
   },
   "source": [
    "Время так же важно. Между 1 и 2 временем значительно меньше времени, чем между 2 и 3. \n",
    "Соответственно нужно посмотреть на сколько большой/маленький отрезок пройден за время между точками. А значит нужно всё таки знать скорость."
   ]
  },
  {
   "cell_type": "code",
   "execution_count": 8,
   "metadata": {
    "collapsed": false
   },
   "outputs": [],
   "source": [
    "speed = []\n",
    "for j in range(len(lat_points) - 1):\n",
    "    speed_hero = []\n",
    "    for i in range(len(lat_points[j]) - 1):\n",
    "        range_way = math.sqrt(math.pow(lat_points[j][i+1] - lat_points[j][i], 2)\n",
    "                              + math.pow(lon_points[j][i+1] - lon_points[j][i], 2))\n",
    "        range_time = (date_points[j][i + 1] - date_points[j][i]).total_seconds()\n",
    "        speed_hero.append(range_way/range_time)\n",
    "    speed.append(speed_hero)\n"
   ]
  },
  {
   "cell_type": "code",
   "execution_count": 9,
   "metadata": {
    "collapsed": false
   },
   "outputs": [],
   "source": [
    "import sort_coordinates\n",
    "\n",
    "sort_speed = []\n",
    "\n",
    "idx = 0\n",
    "\n",
    "sort_lat = []\n",
    "sort_lon = []\n",
    "for i in range(len(speed)-1):\n",
    "    temp_lat_points = sort_coordinates.del_invalid_idx(lat_points[i])\n",
    "    temp_lon_points = sort_coordinates.del_invalid_idx(lon_points[i])\n",
    "    lat = []\n",
    "    lon = []\n",
    "    sp = []\n",
    "    temp_speed_array = speed[i].copy()\n",
    "    while len(temp_speed_array) != 0:\n",
    "        min_speed = 100000\n",
    "        for i in range(len(temp_speed_array)-1):\n",
    "            if min_speed > temp_speed_array[i]:\n",
    "                min_speed = temp_speed_array[i]\n",
    "                idx = i\n",
    "        sp.append((idx, temp_speed_array.pop(idx)))\n",
    "        lat.append((temp_lat_points.pop(idx), temp_lat_points[idx]))\n",
    "        lon.append((temp_lon_points.pop(idx), temp_lon_points[idx]))\n",
    "    sort_lat.append(lat)\n",
    "    sort_lon.append(lon)\n",
    "    sort_speed.append(sp)\n",
    "\n"
   ]
  },
  {
   "cell_type": "markdown",
   "metadata": {},
   "source": [
    "Как отсортировать скорость сохраняя индекс вторым параметром?"
   ]
  },
  {
   "cell_type": "code",
   "execution_count": 10,
   "metadata": {
    "collapsed": false
   },
   "outputs": [
    {
     "data": {
      "image/png": "[encoded data removed]",
      "text/plain": [
       "<matplotlib.figure.Figure at 0x7f1c77732668>"
      ]
     },
     "metadata": {},
     "output_type": "display_data"
    }
   ],
   "source": [
    "\n",
    "plt.plot(debug[\"latitude\"], debug[\"longitude\"], c = 'b')\n",
    "\n",
    "ix = len(sort_lat[0])/10\n",
    "for j in range(len(sort_speed)-1):\n",
    "    for i in range(int(ix)):\n",
    "        plt.plot(sort_lat[j][i], sort_lon[j][i], c = 'y')\n",
    "        plt.plot(sort_lat[j][i], sort_lon[j][i], 'o')"
   ]
  },
  {
   "cell_type": "markdown",
   "metadata": {
    "collapsed": true
   },
   "source": [
    "Нужно понять какая скорость максимальная для остановок, чтобы решить какое кол-во точек, где тормозит водитель брать. Плюс нельзя забывать о том, что их в любом случае должно быть значительно больше так как светафоры/пробки..."
   ]
  },
  {
   "cell_type": "code",
   "execution_count": 11,
   "metadata": {
    "collapsed": false
   },
   "outputs": [
    {
     "data": {
      "text/plain": [
       "[<matplotlib.lines.Line2D at 0x7f1c7a428358>]"
      ]
     },
     "execution_count": 11,
     "metadata": {},
     "output_type": "execute_result"
    },
    {
     "data": {
      "image/png": "[encoded data removed]",
      "text/plain": [
       "<matplotlib.figure.Figure at 0x7f1c77c23d30>"
      ]
     },
     "metadata": {},
     "output_type": "display_data"
    }
   ],
   "source": [
    "plt.plot(lat, lon, 'o')\n",
    "plt.plot(debug[\"latitude\"], debug[\"longitude\"], 'o', c = 'g')"
   ]
  },
  {
   "cell_type": "markdown",
   "metadata": {},
   "source": [
    "Нужно придумать как определять число остановок и предварительно разделить маршрут на 2 части - в одну и в другую сторону."
   ]
  },
  {
   "cell_type": "markdown",
   "metadata": {},
   "source": [
    "Можно основываясь на данных debug определить минимальную скорость для отрезка на котором находиться остановка."
   ]
  },
  {
   "cell_type": "markdown",
   "metadata": {},
   "source": [
    "Причём надо не индекс точки запоминать, а именно отрезки соединяющие эти точки."
   ]
  },
  {
   "cell_type": "markdown",
   "metadata": {},
   "source": [
    "Поиск первого круга:"
   ]
  },
  {
   "cell_type": "code",
   "execution_count": 37,
   "metadata": {
    "collapsed": false
   },
   "outputs": [
    {
     "name": "stdout",
     "output_type": "stream",
     "text": [
      "320.0 1\n",
      "360.0 2\n",
      "440.0 3\n",
      "500.0 4\n",
      "560.0 5\n",
      "640.0 6\n",
      "0.4488671080453432 0.4512815952207684 0.4555837015928035 0.44845469688364337 44\n",
      "[50.506153000000012, 50.504699000000002, 50.505927999999997, 50.510466999999998, 50.514220999999999, 50.516441, 50.521442, 50.524276, 50.524120000000003, 50.526954000000003, 50.527636999999999, 50.530746000000001, 50.530704, 50.530456000000001, 50.530281000000002, 50.529238999999997, 50.531913000000003, 50.532062000000003, 50.531849000000001, 50.531860000000002, 50.531829999999999, 50.53181, 50.532443999999998, 50.534298, 50.531955000000004, 50.531925000000001, 50.531933000000002, 50.531940000000013, 50.531959000000001, 50.531970999999999, 50.532020000000003, 50.532009000000002, 50.529045000000004, 50.527324, 50.526885999999998, 50.530357000000002, 50.530445, 50.530665999999997, 50.530341999999997, 50.527861999999999, 50.525055000000002, 50.522514000000001, 50.524082, 50.524166000000001, 50.521015000000013]\n"
     ]
    }
   ],
   "source": [
    "f_lat_points = []\n",
    "f_lon_points = []\n",
    "s_lat_points = []\n",
    "s_lon_points = []\n",
    "ways_x = []\n",
    "ways_y = []\n",
    "f_point_x = [date_points[0][0], date_points[0][1], date_points[0][2]]\n",
    "f_point_y = [date_points[0][0], date_points[0][1], date_points[0][2]]\n",
    "b_lat_points = []\n",
    "b_lon_points = []\n",
    "range_time = 0\n",
    "i = 0\n",
    "while range_time < 10*60:\n",
    "    i = i + 1\n",
    "    range_time = (date_points[0][i] - date_points[0][0]).total_seconds()\n",
    "    print (range_time, i)\n",
    "max_eps = math.sqrt(math.pow(lat_points[0][i]- lat_points[0][0], 2)\n",
    "                      + math.pow(lat_points[0][i] - lon_points[0][0], 2))\n",
    "for j in range(len(lat_points[0]) - i - 4):\n",
    "    way_f = math.sqrt(math.pow(lat_points[0][j+i+1]- lat_points[0][0], 2)\n",
    "                      + math.pow(lat_points[0][j+i+1] - lon_points[0][0], 2))\n",
    "    way_s = math.sqrt(math.pow(lat_points[0][j+i+2]- lat_points[0][0], 2)\n",
    "                      + math.pow(lat_points[0][j+i+2] - lon_points[0][0], 2))\n",
    "    way_t = math.sqrt(math.pow(lat_points[0][j+i+3]- lat_points[0][0], 2)\n",
    "                      + math.pow(lat_points[0][j+i+3] - lon_points[0][0], 2))\n",
    "    if way_f > max_eps and  way_s > max_eps  and  way_t > max_eps:\n",
    "        ways_x= lat_points[0][:j+2+i]\n",
    "        ways_y = lon_points[0][:j+2+i]\n",
    "        print (way_f, way_s, way_t, max_eps, j+i+1)\n",
    "        break\n",
    "    \n",
    "print(ways_x)\n",
    "         "
   ]
  },
  {
   "cell_type": "markdown",
   "metadata": {},
   "source": [
    "Сравниваю расстояние между 3-мя стартовыми координатами и тремя следующими подраяд. Если max_eps > получаю конец круга."
   ]
  },
  {
   "cell_type": "code",
   "execution_count": 43,
   "metadata": {
    "collapsed": false
   },
   "outputs": [
    {
     "name": "stdout",
     "output_type": "stream",
     "text": [
      "6\n"
     ]
    },
    {
     "data": {
      "text/plain": [
       "[<matplotlib.lines.Line2D at 0x7f1c76fe3eb8>]"
      ]
     },
     "execution_count": 43,
     "metadata": {},
     "output_type": "execute_result"
    },
    {
     "data": {
      "image/png": "[encoded data removed]",
      "text/plain": [
       "<matplotlib.figure.Figure at 0x7f1c770a96d8>"
      ]
     },
     "metadata": {},
     "output_type": "display_data"
    }
   ],
   "source": [
    "plt.plot(lat, lon, 'o', c = 'r')\n",
    "print (i)\n",
    "\n",
    "plt.plot(ways_x[len(ways_x)-1], ways_y[len(ways_x)-1], 'o', c = 'y')\n",
    "plt.plot(ways_x[0], ways_y[0], 'o', c = 'g')"
   ]
  },
  {
   "cell_type": "markdown",
   "metadata": {},
   "source": [
    "Зелёная - это старт, желтая - это точка попадающая в \"круг\" из 15 минут."
   ]
  },
  {
   "cell_type": "markdown",
   "metadata": {},
   "source": [
    "Далее нужно найти максимально ближнюю точку и взоможно(100%) стоит сократить время \"круга\"."
   ]
  },
  {
   "cell_type": "code",
   "execution_count": null,
   "metadata": {
    "collapsed": true
   },
   "outputs": [],
   "source": []
  }
 ],
 "metadata": {
  "kernelspec": {
   "display_name": "Python 3",
   "language": "python",
   "name": "python3"
  },
  "language_info": {
   "codemirror_mode": {
    "name": "ipython",
    "version": 3
   },
   "file_extension": ".py",
   "mimetype": "text/x-python",
   "name": "python",
   "nbconvert_exporter": "python",
   "pygments_lexer": "ipython3",
   "version": "3.4.3"
  }
 },
 "nbformat": 4,
 "nbformat_minor": 0
}
