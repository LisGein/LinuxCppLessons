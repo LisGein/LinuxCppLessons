{
 "cells": [
  {
   "cell_type": "markdown",
   "metadata": {
    "collapsed": false
   },
   "source": [
    "Раскидывание данных для первого водителя по массивам:"
   ]
  },
  {
   "cell_type": "code",
   "execution_count": 8,
   "metadata": {
    "collapsed": false
   },
   "outputs": [
    {
     "ename": "SyntaxError",
     "evalue": "invalid syntax (<ipython-input-8-c6d5fb7299ff>, line 7)",
     "output_type": "error",
     "traceback": [
      "\u001b[1;36m  File \u001b[1;32m\"<ipython-input-8-c6d5fb7299ff>\"\u001b[1;36m, line \u001b[1;32m7\u001b[0m\n\u001b[1;33m    import from sort_coordinates\u001b[0m\n\u001b[1;37m              ^\u001b[0m\n\u001b[1;31mSyntaxError\u001b[0m\u001b[1;31m:\u001b[0m invalid syntax\n"
     ]
    }
   ],
   "source": [
    "%matplotlib inline\n",
    "import pandas\n",
    "import math\n",
    "import matplotlib.pyplot as plt\n",
    "import re\n",
    "import datetime\n",
    "import sort_coordinates\n",
    "\n",
    "data = pandas.read_csv('data1.tsv', sep=\"\\t\")\n",
    "id_unique = data[\"id\"].unique()\n",
    "date_points = []\n",
    "lat_points = []\n",
    "lon_points = []\n",
    "format_date = \"%Y-%m-%d %H:%M:%S\"\n",
    "\n",
    "for i in id_unique:\n",
    "    str_date = data[data[\"id\"] == i][\"date\"].copy()\n",
    "    datepstr = []\n",
    "    for s in str_date:\n",
    "        t = datetime.datetime.strptime(s, format_date)\n",
    "        datepstr.append(t)\n",
    "    date_points.append(datepstr)\n",
    "    lat = sort_coordinates.del_invalid_idx(data[data[\"id\"] == i][\"latitude\"].copy())\n",
    "    lat_points.append(lat)\n",
    "    lon = sort_coordinates.del_invalid_idx(data[data[\"id\"] == i][\"longitude\"].copy())\n",
    "    lon_points.append(lon)"
   ]
  },
  {
   "cell_type": "markdown",
   "metadata": {},
   "source": [
    "Нужно придумать как определять число остановок и предварительно разделить маршрут на 2 части - в одну и в другую сторону."
   ]
  },
  {
   "cell_type": "code",
   "execution_count": 9,
   "metadata": {
    "collapsed": false
   },
   "outputs": [],
   "source": [
    "import rounds\n",
    "lat = []\n",
    "lon = []\n",
    "for i in range(len(lon_points)):\n",
    "    x, y = rounds.div_rounds(lat_points[i], lon_points[i], date_points[i]);\n",
    "    for idx in range(len(x)):\n",
    "        lat.append(x[idx])\n",
    "        lon.append(y[idx])\n",
    "  "
   ]
  },
  {
   "cell_type": "code",
   "execution_count": 10,
   "metadata": {
    "collapsed": false
   },
   "outputs": [
    {
     "name": "stdout",
     "output_type": "stream",
     "text": [
      "32 430\n"
     ]
    },
    {
     "data": {
      "text/plain": [
       "[<matplotlib.lines.Line2D at 0x7f43d557acc0>]"
      ]
     },
     "execution_count": 10,
     "metadata": {},
     "output_type": "execute_result"
    },
    {
     "data": {
      "image/png": "[encoded data removed]",
      "text/plain": [
       "<matplotlib.figure.Figure at 0x7f43d55d19e8>"
      ]
     },
     "metadata": {},
     "output_type": "display_data"
    }
   ],
   "source": [
    "plt.plot(data[\"latitude\"], data[\"longitude\"], 'o', c = 'y')\n",
    "\n",
    "i = 0\n",
    "j = 29\n",
    "plt.plot(lat[j][i], lon[j][i], 'o', c = 'g')\n",
    "i=len(lat[j])-1\n",
    "print(len(lat), len(lat[j]))\n",
    "plt.plot(lat[j][i], lon[j][i], 'o', c = 'b')\n",
    "i=int((len(lat[j])-1)/2)\n",
    "plt.plot(lat[j][i], lon[j][i], 'o', c = 'r')\n"
   ]
  },
  {
   "cell_type": "markdown",
   "metadata": {},
   "source": [
    "Этот график проверка, что данные отделяются верно. Ещё не много стоит его доработать."
   ]
  },
  {
   "cell_type": "code",
   "execution_count": null,
   "metadata": {
    "collapsed": true
   },
   "outputs": [],
   "source": []
  }
 ],
 "metadata": {
  "kernelspec": {
   "display_name": "Python 3",
   "language": "python",
   "name": "python3"
  },
  "language_info": {
   "codemirror_mode": {
    "name": "ipython",
    "version": 3
   },
   "file_extension": ".py",
   "mimetype": "text/x-python",
   "name": "python",
   "nbconvert_exporter": "python",
   "pygments_lexer": "ipython3",
   "version": "3.4.3"
  }
 },
 "nbformat": 4,
 "nbformat_minor": 0
}
